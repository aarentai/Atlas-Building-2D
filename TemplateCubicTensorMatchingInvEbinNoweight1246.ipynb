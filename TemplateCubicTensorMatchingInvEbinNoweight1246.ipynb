{
 "cells": [
  {
   "cell_type": "code",
   "execution_count": 1,
   "metadata": {},
   "outputs": [
    {
     "data": {
      "text/plain": [
       "<Figure size 640x480 with 2 Axes>"
      ]
     },
     "metadata": {},
     "output_type": "display_data"
    }
   ],
   "source": [
    "import torch\n",
    "import numpy as np\n",
    "from Packages.RegistrationFunc import *\n",
    "from Packages.SplitEbinMetric import *\n",
    "from Packages.GeoPlot import *\n",
    "import scipy.io as sio\n",
    "import matplotlib.pyplot as plt\n",
    "import SimpleITK as sitk\n",
    "\n",
    "g00 = sitk.GetArrayFromImage(sitk.ReadImage('Data/Cubic/cubic1_scaled_tensors.nhdr'))\n",
    "g11 = sitk.GetArrayFromImage(sitk.ReadImage('Data/Cubic/cubic2_scaled_tensors.nhdr'))\n",
    "g22 = sitk.GetArrayFromImage(sitk.ReadImage('Data/Cubic/cubic4_scaled_tensors.nhdr'))\n",
    "g33 = sitk.GetArrayFromImage(sitk.ReadImage('Data/Cubic/cubic6_scaled_tensors.nhdr'))\n",
    "gtt = sitk.GetArrayFromImage(sitk.ReadImage('Data/Cubic/cubic5_scaled_tensors.nhdr'))\n",
    "mask0 = sitk.GetArrayFromImage(sitk.ReadImage('Data/Cubic/cubic1_filt_mask.nhdr'))\n",
    "mask1 = sitk.GetArrayFromImage(sitk.ReadImage('Data/Cubic/cubic2_filt_mask.nhdr'))\n",
    "mask2 = sitk.GetArrayFromImage(sitk.ReadImage('Data/Cubic/cubic4_filt_mask.nhdr'))\n",
    "mask3 = sitk.GetArrayFromImage(sitk.ReadImage('Data/Cubic/cubic6_filt_mask.nhdr'))\n",
    "mask = mask0 + mask1+mask2+mask3\n",
    "mask[mask>0] = 1\n",
    "\n",
    "fig = plt.figure()\n",
    "im = plt.imshow(np.transpose(mask))\n",
    "fig.colorbar(im)\n",
    "plt.gca().invert_yaxis()\n",
    "plt.show()\n",
    "\n",
    "g00 = torch.from_numpy(g00).double()\n",
    "g11 = torch.from_numpy(g11).double()\n",
    "g22 = torch.from_numpy(g22).double()\n",
    "g33 = torch.from_numpy(g33).double()\n",
    "gtt = torch.from_numpy(gtt).double()\n",
    "mask = torch.from_numpy(mask).double().permute(1,0)#.unsqueeze(0)\n",
    "mask0 = torch.from_numpy(mask0).double().permute(1,0)\n",
    "mask1 = torch.from_numpy(mask1).double().permute(1,0)\n",
    "mask2 = torch.from_numpy(mask2).double().permute(1,0)\n",
    "mask3 = torch.from_numpy(mask3).double().permute(1,0)\n",
    "# mask = torch.ones((145,174))\n",
    "g00 = g00.permute(2,1,0)\n",
    "g11 = g11.permute(2,1,0)\n",
    "g22 = g22.permute(2,1,0)\n",
    "g33 = g33.permute(2,1,0)\n",
    "gtt = gtt.permute(2,1,0)\n",
    "# det = g11[0,:,:]*g11[2,:,:]-g11[1,:,:]*g11[1,:,:]\n",
    "# weight = mask/det"
   ]
  },
  {
   "cell_type": "code",
   "execution_count": 2,
   "metadata": {},
   "outputs": [],
   "source": [
    "height, width = g00.shape[1], g00.shape[2]\n",
    "g0m = torch.zeros(height,width,2,2,dtype=torch.double)\n",
    "g1m = torch.zeros(height,width,2,2,dtype=torch.double)\n",
    "g2m = torch.zeros(height,width,2,2,dtype=torch.double)\n",
    "g3m = torch.zeros(height,width,2,2,dtype=torch.double)\n",
    "gt = torch.zeros(height,width,2,2,dtype=torch.double)\n",
    "g0m[:,:,0,0] = g00[0]\n",
    "g0m[:,:,0,1] = g00[1]\n",
    "g0m[:,:,1,0] = g00[1]\n",
    "g0m[:,:,1,1] = g00[2]\n",
    "g1m[:,:,0,0] = g11[0]\n",
    "g1m[:,:,0,1] = g11[1]\n",
    "g1m[:,:,1,0] = g11[1]\n",
    "g1m[:,:,1,1] = g11[2]\n",
    "g2m[:,:,0,0] = g22[0]\n",
    "g2m[:,:,0,1] = g22[1]\n",
    "g2m[:,:,1,0] = g22[1]\n",
    "g2m[:,:,1,1] = g22[2]\n",
    "g3m[:,:,0,0] = g33[0]\n",
    "g3m[:,:,0,1] = g33[1]\n",
    "g3m[:,:,1,0] = g33[1]\n",
    "g3m[:,:,1,1] = g33[2]\n",
    "gt[:,:,0,0] = gtt[0]\n",
    "gt[:,:,0,1] = gtt[1]\n",
    "gt[:,:,1,0] = gtt[1]\n",
    "gt[:,:,1,1] = gtt[2]\n",
    "g0m=torch.inverse(g0m)\n",
    "g1m=torch.inverse(g1m)\n",
    "g2m=torch.inverse(g2m)\n",
    "g3m=torch.inverse(g3m)"
   ]
  },
  {
   "cell_type": "code",
   "execution_count": 3,
   "metadata": {},
   "outputs": [],
   "source": [
    "# define the pullback action of phi\n",
    "def phi_pullback(phi, g):\n",
    "    idty = get_idty(*g.shape[-2:])\n",
    "#     four layers of scalar field, of all 1, all 0, all 1, all 0, where the shape of each layer is g.shape[-2:]?\n",
    "    d_phi = get_jacobian_matrix(phi - idty) + torch.einsum(\"ij,mn->ijmn\", [torch.eye(2,dtype=torch.double),\n",
    "                                                                           torch.ones(g.shape[-2:],dtype=torch.double)])\n",
    "    g_phi = compose_function(g, phi)\n",
    "#     matrix multiplication\n",
    "# the last two dimension stays the same means point-wise multiplication, ijmn instead of jimn means the first d_phi need to be transposed\n",
    "    return torch.einsum(\"ijmn,ikmn,klmn->jlmn\",[d_phi, g_phi, d_phi])\n",
    "\n",
    "\n",
    "# define the energy functional\n",
    "def Energy(phi, g0, g1, f0, f1, sigma, lambd, mask): \n",
    "\n",
    "    '''\n",
    "    compute the energy functional\n",
    "    \n",
    "    Parameters\n",
    "    -----\n",
    "    phi: the diffeomorphism\n",
    "        size: 2 x N x N\n",
    "        \n",
    "    g0, g1: the initial and the target metrics\n",
    "        size: 2 x 2 x N x N\n",
    "        \n",
    "    f0, f1: weighting tensors\n",
    "        size: 2 x 2 x N x N\n",
    "    \n",
    "    sigma: the constant regularization parameter\n",
    "    \n",
    "    lambd: the weight that measures the change in the volumn density\n",
    "    \n",
    "    Returns\n",
    "    -----\n",
    "    The energy fuctional \n",
    "    \n",
    "    ''' \n",
    "    phi_star_g1 = phi_pullback(phi, g1)\n",
    "    phi_star_f1 = phi_pullback(phi, f1)\n",
    "#     means d(g_0,\\phi^*g_1)=d(\\phi_*g_0,g_1), d(f_0,\\phi^*f_1)=d(\\phi_*f_0,f_1)?\n",
    "    E1 = sigma*Squared_distance_Ebin(f0, phi_star_f1, lambd, mask)\n",
    "    E2 = Squared_distance_Ebin(g0, phi_star_g1, lambd, mask)\n",
    "    \n",
    "    return E1 + E2\n",
    "\n",
    "\n",
    "# define the energy functional\n",
    "def Energy_L2(phi, g0, g1, f0, f1, sigma, weight): # \n",
    "\n",
    "    '''\n",
    "    compute the energy functional\n",
    "    \n",
    "    Parameters\n",
    "    -----\n",
    "    phi: the diffeomorphism\n",
    "        size: 2 x N x N\n",
    "        \n",
    "    g0, g1: the initial and the target metrics\n",
    "        size: 2 x 2 x N x N\n",
    "        \n",
    "    f0, f1: weighting tensors\n",
    "        size: 2 x 2 x N x N\n",
    "    \n",
    "    sigma: the constant regularization parameter\n",
    "    \n",
    "    lambd: the weight that measures the change in the volumn density\n",
    "    \n",
    "    Returns\n",
    "    -----\n",
    "    The energy fuctional \n",
    "    \n",
    "    ''' \n",
    "    phi_star_g1 = phi_pullback(phi, g1)\n",
    "    phi_star_f1 = phi_pullback(phi, f1)\n",
    "    \n",
    "#     E1 = sigma*torch.sum((f0 - phi_star_f1)**2)\n",
    "#     E2 = torch.sum((g0 - phi_star_g1)**2)\n",
    "    E1 = sigma*torch.einsum(\"...ij,kij->\",[(f0 - phi_star_f1)**2, weight])\n",
    "    E2 = torch.einsum(\"...ij,kij->\",[(g0 - phi_star_g1)**2, weight])\n",
    "    \n",
    "    return E1 + E2"
   ]
  },
  {
   "cell_type": "code",
   "execution_count": 4,
   "metadata": {},
   "outputs": [],
   "source": [
    "# # %matplotlib qt\n",
    "# %matplotlib inline\n",
    "# show_2d_tensors(g0m.permute(2,3,0,1), scale=0.5, title=\"g0\", margin=0.05, dpi=20)\n",
    "# show_2d_tensors(g1m.permute(2,3,0,1), scale=0.5, title=\"g1\", margin=0.05, dpi=20)\n",
    "# show_2d_tensors(g2m.permute(2,3,0,1), scale=0.5, title=\"g2\", margin=0.05, dpi=20)\n",
    "# show_2d_tensors(g3m.permute(2,3,0,1), scale=0.5, title=\"g3\", margin=0.05, dpi=20)"
   ]
  },
  {
   "cell_type": "code",
   "execution_count": 5,
   "metadata": {},
   "outputs": [],
   "source": [
    "# define the Laplacian inverse\n",
    "\n",
    "def laplace_inverse(u):\n",
    "    '''\n",
    "    this function computes the laplacian inverse of a vector field u of size 2 x size_h x size_w \n",
    "    '''\n",
    "    size_h, size_w = u.shape[-2:]\n",
    "    shape = u.shape\n",
    "    idty = get_idty(size_h, size_w).numpy()\n",
    "    lap = 4. - 2.*(np.cos(2.*np.pi*idty[0]/size_w) + np.cos(2.*np.pi*idty[1]/size_h))\n",
    "    lap[0,0] = 1.\n",
    "    lapinv = 1./lap\n",
    "    lap[0,0] = 0.\n",
    "    lapinv[0,0] = 1.\n",
    "    \n",
    "    u = u.detach().numpy()\n",
    "    fx = np.fft.fftn(u[0])\n",
    "    fy = np.fft.fftn(u[1])\n",
    "    fx *= lapinv\n",
    "    fy *= lapinv\n",
    "    vx = torch.from_numpy(np.real(np.fft.ifftn(fx)))\n",
    "    vy = torch.from_numpy(np.real(np.fft.ifftn(fy)))\n",
    "    \n",
    "    return torch.stack((vx,vy))"
   ]
  },
  {
   "cell_type": "code",
   "execution_count": 6,
   "metadata": {},
   "outputs": [],
   "source": [
    "def Vis_squared_distance_Ebin(g0, g1, a):  \n",
    "    inv_g0 = get_inverse(g0)\n",
    "    inv_g0_g1 = torch.einsum(\"ik...,kj...->...ij\",[inv_g0, g1]) \n",
    "    trK0square = trKsquare(g0, g1) - torch.log(get_det(inv_g0_g1) + 1e-25)**2/2 \n",
    "    theta = torch.min((trK0square/a + 1e-25).sqrt()/4, torch.tensor([np.pi],dtype=torch.double))\n",
    "    \n",
    "    det_g0 = g0[0, 0] * g0[1, 1] - g0[0, 1] * g0[1, 0] + 1e-25\n",
    "    det_g1 = g1[0, 0] * g1[1, 1] - g1[0, 1] * g1[1, 0] + 1e-25\n",
    "    \n",
    "    alpha, beta = det_g0.pow(1/4), det_g1.pow(1/4)\n",
    "    E = 16*a*(alpha**2 - 2*alpha*beta*torch.cos(theta) + beta**2)\n",
    "    fig = plt.figure()\n",
    "    im = plt.imshow(E)\n",
    "    fig.colorbar(im)\n",
    "    plt.gca().invert_yaxis()\n",
    "    plt.show()\n",
    "    return 0"
   ]
  },
  {
   "cell_type": "code",
   "execution_count": 7,
   "metadata": {},
   "outputs": [],
   "source": [
    "def checkNaN(A):\n",
    "    if (A != A).any():\n",
    "        print('NaN')"
   ]
  },
  {
   "cell_type": "code",
   "execution_count": 8,
   "metadata": {},
   "outputs": [],
   "source": [
    "def metric_matching(gi,gm,height,width,mask,Num_ite,epsilon,sigma):\n",
    "    phi_inv = get_idty(height, width)\n",
    "    phi = get_idty(height, width)\n",
    "    idty = get_idty(height, width)\n",
    "    idty.requires_grad_()\n",
    "    f0 = torch.eye(2, dtype=torch.double).repeat(height, width,1,1).permute(2,3,0,1)\n",
    "    f1 = torch.eye(2, dtype=torch.double).repeat(height, width,1,1).permute(2,3,0,1)\n",
    "    det = gi[:,:,0, 0]*gi[:,:,1,1]-gi[:,:,0,1]*gi[:,:,1,0]\n",
    "    \n",
    "#     fig = plt.figure()\n",
    "#     im = plt.imshow(det)\n",
    "#     fig.colorbar(im)\n",
    "#     plt.gca().invert_yaxis()\n",
    "#     plt.show()\n",
    "    \n",
    "#     weight = mask/det#.unsqueeze(0)\n",
    "    weight = mask#.unsqueeze(0)\n",
    "#     print(mask.shape,det.shape)\n",
    "\n",
    "    for j in range(Num_ite):\n",
    "        phi_actsg0 = phi_pullback(phi_inv, gi.permute(2,3,0,1))\n",
    "        phi_actsf0 = phi_pullback(phi_inv, f0)\n",
    "        E = Energy(idty, phi_actsg0, gm.permute(2,3,0,1), phi_actsf0, f1, sigma,0.5, weight.unsqueeze(0)) \n",
    "#         print(E.item())\n",
    "        E.backward()\n",
    "        v = - laplace_inverse(idty.grad)\n",
    "        with torch.no_grad():\n",
    "            psi =  idty + epsilon*v  \n",
    "            psi[0][psi[0]>width-1]=width-1\n",
    "            psi[1][psi[1]>height-1]=height-1\n",
    "            psi[psi<0]=0\n",
    "            psi_inv =  idty - epsilon*v\n",
    "            psi_inv[0][psi_inv[0]>width-1]=width-1\n",
    "            psi_inv[1][psi_inv[1]>height-1]=height-1\n",
    "            psi_inv[psi_inv<0]=0\n",
    "            phi = compose_function(psi, phi)\n",
    "            phi_inv = compose_function(phi_inv, psi_inv)\n",
    "            idty.grad.data.zero_()\n",
    "#         plot_diffeo(phi, step_size=2, show_axis=True)\n",
    "    gi = phi_pullback(phi_inv, gi.permute(2,3,0,1)).permute(2,3,0,1)\n",
    "    return gi, phi, phi_inv"
   ]
  },
  {
   "cell_type": "code",
   "execution_count": 9,
   "metadata": {},
   "outputs": [],
   "source": [
    "def GetSITKImageFromNP(npimg, has_component_data=False):\n",
    "  # If RGB or tensor data etc, set has_component_data to True so that last dimension is not\n",
    "  # transposed.\n",
    "  # This assumes that the component data is in the last dimension.\n",
    "  # TODO fix this assumption to work for component data in first dimension as well\n",
    "  # Currently works for 2D and 3D images\n",
    "  if has_component_data:\n",
    "    transpose_tuple=(1,0,2)\n",
    "    if len(npimg.shape) == 4:\n",
    "      transpose_tuple=(2,1,0,3)    \n",
    "    return sitk.GetImageFromArray(np.transpose(npimg,transpose_tuple))\n",
    "  else:\n",
    "    transpose_tuple=(1,0)\n",
    "    if len(npimg.shape) == 3:\n",
    "      transpose_tuple=(2,1,0)           \n",
    "    return sitk.GetImageFromArray(np.transpose(npimg, transpose_tuple))"
   ]
  },
  {
   "cell_type": "markdown",
   "metadata": {},
   "source": [
    "## Main Process"
   ]
  },
  {
   "cell_type": "code",
   "execution_count": 10,
   "metadata": {},
   "outputs": [],
   "source": [
    "# threshmask1 = torch.zeros_like(torch.det(g0m))\n",
    "# threshmask1[torch.det(g0m)>5e7] = 1\n",
    "# threshmask2 = torch.zeros_like(torch.det(g0m))\n",
    "# threshmask2[torch.det(g0m)>1e7] = 1\n",
    "# print(torch.norm(threshmask1-threshmask2))\n",
    "# fig = plt.figure()\n",
    "# im = plt.imshow(threshmask)#torch.det(g2m).detach().numpy()\n",
    "# fig.colorbar(im)\n",
    "# plt.gca().invert_yaxis()\n",
    "# plt.show()\n"
   ]
  },
  {
   "cell_type": "code",
   "execution_count": 11,
   "metadata": {
    "scrolled": false
   },
   "outputs": [],
   "source": [
    "thresh_mask00 = torch.where(torch.det(g0m)>1e7,1/torch.det(g0m),5e-3)\n",
    "thresh_mask11 = torch.where(torch.det(g1m)>1e7,1/torch.det(g1m),5e-3)\n",
    "thresh_mask22 = torch.where(torch.det(g2m)>1e7,1/torch.det(g2m),5e-3)\n",
    "thresh_mask33 = torch.where(torch.det(g3m)>1e7,1/torch.det(g3m),5e-3)\n",
    "# print(torch.min(thresh_mask00),torch.min(thresh_mask22))\n",
    "g0m=torch.einsum('ij...,kij->ij...',g0m,thresh_mask00.unsqueeze(0))\n",
    "g1m=torch.einsum('ij...,kij->ij...',g1m,thresh_mask11.unsqueeze(0))\n",
    "g2m=torch.einsum('ij...,kij->ij...',g2m,thresh_mask22.unsqueeze(0))\n",
    "g3m=torch.einsum('ij...,kij->ij...',g3m,thresh_mask33.unsqueeze(0))\n",
    "\n",
    "# show_2d_tensors(g0m.permute(2,3,0,1), scale=1e3, title=\"g0\", margin=0.05, dpi=20)\n",
    "# show_2d_tensors(g1m.permute(2,3,0,1), scale=1e3, title=\"g1\", margin=0.05, dpi=20)\n",
    "# show_2d_tensors(g2m.permute(2,3,0,1), scale=1e3, title=\"g2\", margin=0.05, dpi=20)\n",
    "# show_2d_tensors(g3m.permute(2,3,0,1), scale=1e3, title=\"g3\", margin=0.05, dpi=20)\n",
    "\n",
    "# fig = plt.figure()\n",
    "# im = plt.imshow(torch.det(g0m))#torch.det(g2m).detach().numpy()\n",
    "# fig.colorbar(im)\n",
    "# plt.gca().invert_yaxis()\n",
    "# plt.show()"
   ]
  },
  {
   "cell_type": "code",
   "execution_count": 12,
   "metadata": {
    "scrolled": true
   },
   "outputs": [
    {
     "name": "stderr",
     "output_type": "stream",
     "text": [
      "/home/sci/hdai/IPMIbugfree/Packages/SplitEbinMetric.py:371: UserWarning: This overload of nonzero is deprecated:\n",
      "\tnonzero()\n",
      "Consider using one of the following signatures instead:\n",
      "\tnonzero(*, bool as_tuple) (Triggered internally at  /opt/conda/conda-bld/pytorch_1603729006826/work/torch/csrc/utils/python_arg_parser.cpp:882.)\n",
      "  Ind_inRange = (theta < 0).nonzero().reshape(-1)  ## G[i] is in the range of the exponential map at gm\n"
     ]
    },
    {
     "name": "stdout",
     "output_type": "stream",
     "text": [
      "0\n",
      "10\n",
      "20\n",
      "30\n",
      "40\n",
      "50\n",
      "60\n",
      "70\n",
      "80\n",
      "90\n",
      "100\n",
      "110\n",
      "120\n",
      "130\n",
      "140\n",
      "150\n",
      "160\n",
      "170\n",
      "180\n",
      "190\n",
      "200\n"
     ]
    }
   ],
   "source": [
    "E0m, E1m, E2m, E3m=[],[],[],[]\n",
    "phi_inv0_final = get_idty(height, width)\n",
    "phi0_final = get_idty(height, width)\n",
    "phi_inv1_final = get_idty(height, width)\n",
    "phi1_final = get_idty(height, width)\n",
    "phi_inv2_final = get_idty(height, width)\n",
    "phi2_final = get_idty(height, width)\n",
    "phi_inv3_final = get_idty(height, width)\n",
    "phi3_final = get_idty(height, width)\n",
    "for i in range(201):\n",
    "    G = torch.stack((g0m,g1m,g2m,g3m))\n",
    "    a = 0.5\n",
    "    gm = get_KarcherMean(G, a)\n",
    "    E0m.append(torch.einsum(\"ij...,kij->\",[(g0m - gm)**2, mask.unsqueeze(0)]).item())\n",
    "    E1m.append(torch.einsum(\"ij...,kij->\",[(g1m - gm)**2, mask.unsqueeze(0)]).item())\n",
    "    E2m.append(torch.einsum(\"ij...,kij->\",[(g2m - gm)**2, mask.unsqueeze(0)]).item())\n",
    "    E3m.append(torch.einsum(\"ij...,kij->\",[(g3m - gm)**2, mask.unsqueeze(0)]).item())\n",
    "    if i%10 ==0:\n",
    "        print(i)\n",
    "        gmm = np.zeros((height,width,3))\n",
    "        gmm[:,:,0]=gm[:,:,0,0]\n",
    "        gmm[:,:,1]=gm[:,:,0,1]\n",
    "        gmm[:,:,2]=gm[:,:,1,1]\n",
    "#         sitk.WriteImage(GetSITKImageFromNP(gmm, has_component_data=True), 'InvCubic1246TemplateEbin/cubic_'+str(i)+'_scaled_tensors.nhdr')\n",
    "#         plot_diffeo(phi_inv0_final, step_size=2, show_axis=True)\n",
    "#         plot_diffeo(phi_inv1_final, step_size=2, show_axis=True)\n",
    "#         plot_diffeo(phi_inv2_final, step_size=2, show_axis=True)\n",
    "#         plot_diffeo(phi_inv3_final, step_size=2, show_axis=True)\n",
    "#         sio.savemat('InvCubic3467TemplateEbin/Cubic3_'+str(i)+'_phi_inv_ebin.mat', {'diffeo': phi_inv0_final.detach().numpy()})\n",
    "#         sio.savemat('InvCubic3467TemplateEbin/Cubic3_'+str(i)+'_phi_ebin.mat', {'diffeo': phi0_final.detach().numpy()})\n",
    "#         sio.savemat('InvCubic3467TemplateEbin/Cubic4_'+str(i)+'_phi_inv_ebin.mat', {'diffeo': phi_inv1_final.detach().numpy()})\n",
    "#         sio.savemat('InvCubic3467TemplateEbin/Cubic4_'+str(i)+'_phi_ebin.mat', {'diffeo': phi1_final.detach().numpy()})\n",
    "#         sio.savemat('InvCubic3467TemplateEbin/Cubic6_'+str(i)+'_phi_inv_ebin.mat', {'diffeo': phi_inv2_final.detach().numpy()})\n",
    "#         sio.savemat('InvCubic3467TemplateEbin/Cubic6_'+str(i)+'_phi_ebin.mat', {'diffeo': phi2_final.detach().numpy()})\n",
    "#         sio.savemat('InvCubic3467TemplateEbin/Cubic7_'+str(i)+'_phi_inv_ebin.mat', {'diffeo': phi_inv3_final.detach().numpy()})\n",
    "#         sio.savemat('InvCubic3467TemplateEbin/Cubic7_'+str(i)+'_phi_ebin.mat', {'diffeo': phi3_final.detach().numpy()})\n",
    "#         show_2d_tensors(gm.permute(2,3,0,1), scale=0.5, title=\"gm\", margin=0.05, dpi=20)\n",
    "#         show_2d_tensors(gt.permute(2,3,0,1), scale=0.5, title=\"gt\", margin=0.05, dpi=20)\n",
    "#         show_2d_tensors(gt.permute(2,3,0,1), scale=0.5, title=\"gtarget\", margin=0.05, dpi=20)\n",
    "#         Vis_squared_distance_Ebin(gm.permute(2,3,0,1), gt.permute(2,3,0,1), 0.5)\n",
    "#         print(Squared_distance_Ebin(gm.permute(2,3,0,1), gt.permute(2,3,0,1), a, mask).numpy())\n",
    "    lambd = 0.5\n",
    "    sigma = 0\n",
    "#     epsilon = 5e-7\n",
    "    epsilon = 5e0\n",
    "    Num_ite = 1\n",
    "    \n",
    "    g0m,phi0,phi_inv0 = metric_matching(g0m,gm,height,width,mask,Num_ite,epsilon,sigma)\n",
    "    g1m,phi1,phi_inv1 = metric_matching(g1m,gm,height,width,mask,Num_ite,epsilon,sigma)\n",
    "    g2m,phi2,phi_inv2 = metric_matching(g2m,gm,height,width,mask,Num_ite,epsilon,sigma)\n",
    "    g3m,phi3,phi_inv3 = metric_matching(g3m,gm,height,width,mask,Num_ite,epsilon,sigma)\n",
    "    \n",
    "#     phi_inv0_final = compose_function(phi_inv0, phi_inv0_final)\n",
    "    phi_inv0_final = compose_function(phi_inv0_final, phi_inv0)\n",
    "    phi0_final = compose_function(phi0, phi0_final)\n",
    "    mask0 = compose_function(mask0, phi_inv0)\n",
    "#     phi_inv1_final = compose_function(phi_inv1, phi_inv1_final)\n",
    "    phi_inv1_final = compose_function(phi_inv1_final, phi_inv1)\n",
    "    phi1_final = compose_function(phi1, phi1_final)\n",
    "    mask1 = compose_function(mask1, phi_inv1)\n",
    "#     phi_inv2_final = compose_function(phi_inv2, phi_inv2_final)\n",
    "    phi_inv2_final = compose_function(phi_inv2_final, phi_inv2)\n",
    "    phi2_final = compose_function(phi2, phi2_final)\n",
    "    mask2 = compose_function(mask2, phi_inv2)\n",
    "#     phi_inv3_final = compose_function(phi_inv3, phi_inv3_final)\n",
    "    phi_inv3_final = compose_function(phi_inv3_final, phi_inv3)\n",
    "    phi3_final = compose_function(phi3, phi3_final)\n",
    "    mask3 = compose_function(mask3, phi_inv3)\n",
    "    "
   ]
  },
  {
   "cell_type": "code",
   "execution_count": 13,
   "metadata": {},
   "outputs": [
    {
     "ename": "NameError",
     "evalue": "name 'get_inverse' is not defined",
     "output_type": "error",
     "traceback": [
      "\u001b[0;31m---------------------------------------------------------------------------\u001b[0m",
      "\u001b[0;31mNameError\u001b[0m                                 Traceback (most recent call last)",
      "\u001b[0;32m<ipython-input-13-4a5e348b7379>\u001b[0m in \u001b[0;36m<module>\u001b[0;34m()\u001b[0m\n\u001b[0;32m----> 1\u001b[0;31m \u001b[0mVis_squared_distance_Ebin\u001b[0m\u001b[0;34m(\u001b[0m\u001b[0mgm\u001b[0m\u001b[0;34m.\u001b[0m\u001b[0mpermute\u001b[0m\u001b[0;34m(\u001b[0m\u001b[0;36m2\u001b[0m\u001b[0;34m,\u001b[0m\u001b[0;36m3\u001b[0m\u001b[0;34m,\u001b[0m\u001b[0;36m0\u001b[0m\u001b[0;34m,\u001b[0m\u001b[0;36m1\u001b[0m\u001b[0;34m)\u001b[0m\u001b[0;34m,\u001b[0m \u001b[0mgt\u001b[0m\u001b[0;34m.\u001b[0m\u001b[0mpermute\u001b[0m\u001b[0;34m(\u001b[0m\u001b[0;36m2\u001b[0m\u001b[0;34m,\u001b[0m\u001b[0;36m3\u001b[0m\u001b[0;34m,\u001b[0m\u001b[0;36m0\u001b[0m\u001b[0;34m,\u001b[0m\u001b[0;36m1\u001b[0m\u001b[0;34m)\u001b[0m\u001b[0;34m,\u001b[0m \u001b[0;36m0.5\u001b[0m\u001b[0;34m)\u001b[0m\u001b[0;34m\u001b[0m\u001b[0;34m\u001b[0m\u001b[0m\n\u001b[0m",
      "\u001b[0;32m<ipython-input-6-c399da909c25>\u001b[0m in \u001b[0;36mVis_squared_distance_Ebin\u001b[0;34m(g0, g1, a)\u001b[0m\n\u001b[1;32m      1\u001b[0m \u001b[0;32mdef\u001b[0m \u001b[0mVis_squared_distance_Ebin\u001b[0m\u001b[0;34m(\u001b[0m\u001b[0mg0\u001b[0m\u001b[0;34m,\u001b[0m \u001b[0mg1\u001b[0m\u001b[0;34m,\u001b[0m \u001b[0ma\u001b[0m\u001b[0;34m)\u001b[0m\u001b[0;34m:\u001b[0m\u001b[0;34m\u001b[0m\u001b[0;34m\u001b[0m\u001b[0m\n\u001b[0;32m----> 2\u001b[0;31m     \u001b[0minv_g0\u001b[0m \u001b[0;34m=\u001b[0m \u001b[0mget_inverse\u001b[0m\u001b[0;34m(\u001b[0m\u001b[0mg0\u001b[0m\u001b[0;34m)\u001b[0m\u001b[0;34m\u001b[0m\u001b[0;34m\u001b[0m\u001b[0m\n\u001b[0m\u001b[1;32m      3\u001b[0m     \u001b[0minv_g0_g1\u001b[0m \u001b[0;34m=\u001b[0m \u001b[0mtorch\u001b[0m\u001b[0;34m.\u001b[0m\u001b[0meinsum\u001b[0m\u001b[0;34m(\u001b[0m\u001b[0;34m\"ik...,kj...->...ij\"\u001b[0m\u001b[0;34m,\u001b[0m\u001b[0;34m[\u001b[0m\u001b[0minv_g0\u001b[0m\u001b[0;34m,\u001b[0m \u001b[0mg1\u001b[0m\u001b[0;34m]\u001b[0m\u001b[0;34m)\u001b[0m\u001b[0;34m\u001b[0m\u001b[0;34m\u001b[0m\u001b[0m\n\u001b[1;32m      4\u001b[0m     \u001b[0mtrK0square\u001b[0m \u001b[0;34m=\u001b[0m \u001b[0mtrKsquare\u001b[0m\u001b[0;34m(\u001b[0m\u001b[0mg0\u001b[0m\u001b[0;34m,\u001b[0m \u001b[0mg1\u001b[0m\u001b[0;34m)\u001b[0m \u001b[0;34m-\u001b[0m \u001b[0mtorch\u001b[0m\u001b[0;34m.\u001b[0m\u001b[0mlog\u001b[0m\u001b[0;34m(\u001b[0m\u001b[0mget_det\u001b[0m\u001b[0;34m(\u001b[0m\u001b[0minv_g0_g1\u001b[0m\u001b[0;34m)\u001b[0m \u001b[0;34m+\u001b[0m \u001b[0;36m1e-25\u001b[0m\u001b[0;34m)\u001b[0m\u001b[0;34m**\u001b[0m\u001b[0;36m2\u001b[0m\u001b[0;34m/\u001b[0m\u001b[0;36m2\u001b[0m\u001b[0;34m\u001b[0m\u001b[0;34m\u001b[0m\u001b[0m\n\u001b[1;32m      5\u001b[0m     \u001b[0mtheta\u001b[0m \u001b[0;34m=\u001b[0m \u001b[0mtorch\u001b[0m\u001b[0;34m.\u001b[0m\u001b[0mmin\u001b[0m\u001b[0;34m(\u001b[0m\u001b[0;34m(\u001b[0m\u001b[0mtrK0square\u001b[0m\u001b[0;34m/\u001b[0m\u001b[0ma\u001b[0m \u001b[0;34m+\u001b[0m \u001b[0;36m1e-25\u001b[0m\u001b[0;34m)\u001b[0m\u001b[0;34m.\u001b[0m\u001b[0msqrt\u001b[0m\u001b[0;34m(\u001b[0m\u001b[0;34m)\u001b[0m\u001b[0;34m/\u001b[0m\u001b[0;36m4\u001b[0m\u001b[0;34m,\u001b[0m \u001b[0mtorch\u001b[0m\u001b[0;34m.\u001b[0m\u001b[0mtensor\u001b[0m\u001b[0;34m(\u001b[0m\u001b[0;34m[\u001b[0m\u001b[0mnp\u001b[0m\u001b[0;34m.\u001b[0m\u001b[0mpi\u001b[0m\u001b[0;34m]\u001b[0m\u001b[0;34m,\u001b[0m\u001b[0mdtype\u001b[0m\u001b[0;34m=\u001b[0m\u001b[0mtorch\u001b[0m\u001b[0;34m.\u001b[0m\u001b[0mdouble\u001b[0m\u001b[0;34m)\u001b[0m\u001b[0;34m)\u001b[0m\u001b[0;34m\u001b[0m\u001b[0;34m\u001b[0m\u001b[0m\n",
      "\u001b[0;31mNameError\u001b[0m: name 'get_inverse' is not defined"
     ]
    }
   ],
   "source": [
    "Vis_squared_distance_Ebin(gm.permute(2,3,0,1), gt.permute(2,3,0,1), 0.5)"
   ]
  },
  {
   "cell_type": "code",
   "execution_count": null,
   "metadata": {},
   "outputs": [],
   "source": [
    "# sio.savemat('InvCubic6734TemplateEbin/E_103818_m_ebin.mat', {'energy': E_103818_m})\n",
    "# sio.savemat('InvCubic6734TemplateEbin/E_111312_m_ebin.mat', {'energy': E_111312_m})"
   ]
  },
  {
   "cell_type": "code",
   "execution_count": null,
   "metadata": {},
   "outputs": [],
   "source": [
    "plt.plot(E0m)\n",
    "plt.plot(E1m)\n",
    "plt.plot(E2m)\n",
    "plt.plot(E3m)"
   ]
  },
  {
   "cell_type": "code",
   "execution_count": null,
   "metadata": {},
   "outputs": [],
   "source": [
    "plt.plot(np.array(E0m)+np.array(E1m)+np.array(E2m)+np.array(E3m))"
   ]
  },
  {
   "cell_type": "code",
   "execution_count": null,
   "metadata": {},
   "outputs": [],
   "source": [
    "fig = plt.figure()\n",
    "im = plt.imshow(mask0+mask1+mask2+mask3)#torch.det(g2m).detach().numpy()\n",
    "fig.colorbar(im)\n",
    "plt.gca().invert_yaxis()\n",
    "plt.show()"
   ]
  },
  {
   "cell_type": "code",
   "execution_count": null,
   "metadata": {},
   "outputs": [],
   "source": [
    "mask = mask0+mask1+mask2+mask3\n",
    "# sio.savemat('InvCubic1246TemplateEbin/mask.mat', {'mask': mask.detach().numpy()})\n",
    "# sitk.WriteImage(GetSITKImageFromNP(gmm, has_component_data=True), 'InvCubic1246TemplateEbin1k/cubic_1k_scaled_tensors.nhdr')"
   ]
  },
  {
   "cell_type": "code",
   "execution_count": null,
   "metadata": {},
   "outputs": [],
   "source": [
    "# g0m[:,:,0,0] = g00[0]\n",
    "# g0m[:,:,0,1] = g00[1]\n",
    "# g0m[:,:,1,0] = g00[1]\n",
    "# g0m[:,:,1,1] = g00[2]\n",
    "# g1m[:,:,0,0] = g11[0]\n",
    "# g1m[:,:,0,1] = g11[1]\n",
    "# g1m[:,:,1,0] = g11[1]\n",
    "# g1m[:,:,1,1] = g11[2]\n",
    "# g2m[:,:,0,0] = g22[0]\n",
    "# g2m[:,:,0,1] = g22[1]\n",
    "# g2m[:,:,1,0] = g22[1]\n",
    "# g2m[:,:,1,1] = g22[2]\n",
    "# g3m[:,:,0,0] = g33[0]\n",
    "# g3m[:,:,0,1] = g33[1]\n",
    "# g3m[:,:,1,0] = g33[1]\n",
    "# g3m[:,:,1,1] = g33[2]\n",
    "# gt[:,:,0,0] = gtt[0]\n",
    "# gt[:,:,0,1] = gtt[1]\n",
    "# gt[:,:,1,0] = gtt[1]\n",
    "# gt[:,:,1,1] = gtt[2]\n",
    "# phi_actsg0 = phi_pullback(phi_inv0_final, g0m.permute(2,3,0,1))\n",
    "# phi_actsg1 = phi_pullback(phi_inv1_final, g1m.permute(2,3,0,1))\n",
    "# phi_actsg2 = phi_pullback(phi_inv2_final, g2m.permute(2,3,0,1))\n",
    "# phi_actsg3 = phi_pullback(phi_inv3_final, g3m.permute(2,3,0,1))"
   ]
  },
  {
   "cell_type": "code",
   "execution_count": 14,
   "metadata": {
    "scrolled": false
   },
   "outputs": [],
   "source": [
    "gmm[:,:,0]=gm[:,:,0,0]\n",
    "gmm[:,:,1]=gm[:,:,0,1]\n",
    "gmm[:,:,2]=gm[:,:,1,1]\n",
    "sitk.WriteImage(GetSITKImageFromNP(gmm, has_component_data=True), 'orig_result.nhdr')\n",
    "# sio.savemat('InvCubic1246TemplateEbin/Cubic1_noweight_phi_inv_ebin.mat', {'diffeo': phi_inv0_final.detach().numpy()})\n",
    "# sio.savemat('InvCubic1246TemplateEbin/Cubic1_noweight_phi_ebin.mat', {'diffeo': phi0_final.detach().numpy()})\n",
    "# sio.savemat('InvCubic1246TemplateEbin/Cubic2_noweight_phi_inv_ebin.mat', {'diffeo': phi_inv1_final.detach().numpy()})\n",
    "# sio.savemat('InvCubic1246TemplateEbin/Cubic2_noweight_phi_ebin.mat', {'diffeo': phi1_final.detach().numpy()})\n",
    "# sio.savemat('InvCubic1246TemplateEbin/Cubic4_noweight_phi_inv_ebin.mat', {'diffeo': phi_inv2_final.detach().numpy()})\n",
    "# sio.savemat('InvCubic1246TemplateEbin/Cubic4_noweight_phi_ebin.mat', {'diffeo': phi2_final.detach().numpy()})\n",
    "# sio.savemat('InvCubic1246TemplateEbin/Cubic6_noweight_phi_inv_ebin.mat', {'diffeo': phi_inv3_final.detach().numpy()})\n",
    "# sio.savemat('InvCubic1246TemplateEbin/Cubic6_noweight_phi_ebin.mat', {'diffeo': phi3_final.detach().numpy()})\n",
    "# sitk.WriteImage(GetSITKImageFromNP(gmm, has_component_data=True), 'InvCubic1246TemplateEbin/cubic_noweight_scaled_tensors.nhdr')\n",
    "# show_2d_tensors(phi_actsg1, scale=1e-3, title=\"g1\", margin=0.05, dpi=20)\n",
    "# show_2d_tensors(phi_actsg2, scale=1e-3, title=\"g2\", margin=0.05, dpi=20)\n",
    "# show_2d_tensors(phi_actsg3, scale=1e-3, title=\"g3\", margin=0.05, dpi=20)"
   ]
  },
  {
   "cell_type": "markdown",
   "metadata": {},
   "source": [
    "### Save template"
   ]
  },
  {
   "cell_type": "code",
   "execution_count": null,
   "metadata": {},
   "outputs": [],
   "source": [
    "# def GetSITKImageFromNP(npimg, has_component_data=False):\n",
    "#   # If RGB or tensor data etc, set has_component_data to True so that last dimension is not\n",
    "#   # transposed.\n",
    "#   # This assumes that the component data is in the last dimension.\n",
    "#   # TODO fix this assumption to work for component data in first dimension as well\n",
    "#   # Currently works for 2D and 3D images\n",
    "#   if has_component_data:\n",
    "#     transpose_tuple=(1,0,2)\n",
    "#     if len(npimg.shape) == 4:\n",
    "#       transpose_tuple=(2,1,0,3)    \n",
    "#     return sitk.GetImageFromArray(np.transpose(npimg,transpose_tuple))\n",
    "#   else:\n",
    "#     transpose_tuple=(1,0)\n",
    "#     if len(npimg.shape) == 3:\n",
    "#       transpose_tuple=(2,1,0)           \n",
    "#     return sitk.GetImageFromArray(np.transpose(npimg, transpose_tuple))\n",
    "\n",
    "# gmm = np.zeros((height,width,3))\n",
    "# gmm[:,:,0]=gm[:,:,0,0]\n",
    "# gmm[:,:,1]=gm[:,:,0,1]\n",
    "# gmm[:,:,2]=gm[:,:,1,1]\n",
    "# sitk.WriteImage(GetSITKImageFromNP(gmm, has_component_data=True), 'Data/Cubic/cubic4_6_scaled_latesttemplate_tensors.nhdr')"
   ]
  },
  {
   "cell_type": "code",
   "execution_count": null,
   "metadata": {},
   "outputs": [],
   "source": [
    "# phi = torch.from_numpy(sio.loadmat('InvCubic1246TemplateEbin/Cubic1_noweight_phi_ebin.mat')['diffeo']).double()\n",
    "# phi_inv = torch.from_numpy(sio.loadmat('InvCubic1246TemplateEbin/Cubic1_noweight_phi_inv_ebin.mat')['diffeo']).double()\n",
    "idty = compose_function(phi_inv3_final, phi3_final)\n",
    "plot_diffeo(idty, step_size=2, show_axis=True)"
   ]
  },
  {
   "cell_type": "code",
   "execution_count": null,
   "metadata": {},
   "outputs": [],
   "source": []
  }
 ],
 "metadata": {
  "kernelspec": {
   "display_name": "Python 3",
   "language": "python",
   "name": "python3"
  },
  "language_info": {
   "codemirror_mode": {
    "name": "ipython",
    "version": 3
   },
   "file_extension": ".py",
   "mimetype": "text/x-python",
   "name": "python",
   "nbconvert_exporter": "python",
   "pygments_lexer": "ipython3",
   "version": "3.7.9"
  },
  "varInspector": {
   "cols": {
    "lenName": 16,
    "lenType": 16,
    "lenVar": 40
   },
   "kernels_config": {
    "python": {
     "delete_cmd_postfix": "",
     "delete_cmd_prefix": "del ",
     "library": "var_list.py",
     "varRefreshCmd": "print(var_dic_list())"
    },
    "r": {
     "delete_cmd_postfix": ") ",
     "delete_cmd_prefix": "rm(",
     "library": "var_list.r",
     "varRefreshCmd": "cat(var_dic_list()) "
    }
   },
   "types_to_exclude": [
    "module",
    "function",
    "builtin_function_or_method",
    "instance",
    "_Feature"
   ],
   "window_display": false
  }
 },
 "nbformat": 4,
 "nbformat_minor": 2
}
