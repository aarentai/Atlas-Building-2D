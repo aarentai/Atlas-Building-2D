{
 "cells": [
  {
   "cell_type": "code",
   "execution_count": 1,
   "metadata": {},
   "outputs": [
    {
     "name": "stdout",
     "output_type": "stream",
     "text": [
      "torch.Size([3, 145, 174])\n"
     ]
    }
   ],
   "source": [
    "import torch\n",
    "import numpy as np\n",
    "from Packages.RegistrationFunc import *\n",
    "from Packages.SplitEbinMetric import *\n",
    "from Packages.GeoPlot import *\n",
    "import scipy.io as sio\n",
    "import matplotlib.pyplot as plt\n",
    "import SimpleITK as sitk\n",
    "\n",
    "g00 = sitk.GetArrayFromImage(sitk.ReadImage('Data/Brains/103818_thresh_tensors.nhdr'))\n",
    "g22 = sitk.GetArrayFromImage(sitk.ReadImage('Data/Brains/111312_thresh_tensors.nhdr'))\n",
    "mask0 = sitk.GetArrayFromImage(sitk.ReadImage('Data/Brains/103818_filt_mask.nhdr'))\n",
    "mask2 = sitk.GetArrayFromImage(sitk.ReadImage('Data/Brains/111312_filt_mask.nhdr'))\n",
    "mask = mask0 + mask2\n",
    "mask[mask>0] = 1\n",
    "\n",
    "g00 = torch.from_numpy(g00).double()\n",
    "g22 = torch.from_numpy(g22).double()\n",
    "mask = torch.from_numpy(mask).double().permute(1,0)\n",
    "mask0 = torch.from_numpy(mask0).double().permute(1,0)\n",
    "mask2 = torch.from_numpy(mask2).double().permute(1,0)\n",
    "g00 = g00.permute(1,0,2)\n",
    "g22 = g22.permute(1,0,2)\n",
    "print(g00.shape)"
   ]
  },
  {
   "cell_type": "code",
   "execution_count": 2,
   "metadata": {},
   "outputs": [
    {
     "name": "stdout",
     "output_type": "stream",
     "text": [
      "torch.Size([145, 174, 2, 2]) torch.Size([145, 174, 2, 2])\n"
     ]
    }
   ],
   "source": [
    "height, width = g00.shape[1], g00.shape[2]\n",
    "g0m = torch.zeros(height,width,2,2,dtype=torch.double)\n",
    "g2m = torch.zeros(height,width,2,2,dtype=torch.double)\n",
    "# gt = torch.zeros(height,width,2,2,dtype=torch.double)\n",
    "g0m[:,:,0,0] = g00[0]\n",
    "g0m[:,:,0,1] = g00[1]\n",
    "g0m[:,:,1,0] = g00[1]\n",
    "g0m[:,:,1,1] = g00[2]\n",
    "g2m[:,:,0,0] = g22[0]\n",
    "g2m[:,:,0,1] = g22[1]\n",
    "g2m[:,:,1,0] = g22[1]\n",
    "g2m[:,:,1,1] = g22[2]\n",
    "print(g0m.shape,g2m.shape)\n",
    "# g0m=torch.einsum('ij...,kij->ij...',torch.inverse(g0m),mask00.unsqueeze(0))+torch.einsum('ij...,kij->ij...',g0m,mask00inv.unsqueeze(0)*1e3)\n",
    "# g2m=torch.einsum('ij...,kij->ij...',torch.inverse(g2m),mask22.unsqueeze(0))+torch.einsum('ij...,kij->ij...',g2m,mask22inv.unsqueeze(0)*1e3)\n",
    "g0m=torch.inverse(g0m)\n",
    "g2m=torch.inverse(g2m)"
   ]
  },
  {
   "cell_type": "code",
   "execution_count": 3,
   "metadata": {},
   "outputs": [],
   "source": [
    "# define the pullback action of phi\n",
    "def phi_pullback(phi, g):\n",
    "    idty = get_idty(*g.shape[-2:])\n",
    "#     four layers of scalar field, of all 1, all 0, all 1, all 0, where the shape of each layer is g.shape[-2:]?\n",
    "    d_phi = get_jacobian_matrix(phi - idty) + torch.einsum(\"ij,mn->ijmn\", [torch.eye(2,dtype=torch.double),\n",
    "                                                                           torch.ones(g.shape[-2:],dtype=torch.double)])\n",
    "    g_phi = compose_function(g, phi)\n",
    "#     matrix multiplication\n",
    "# the last two dimension stays the same means point-wise multiplication, ijmn instead of jimn means the first d_phi need to be transposed\n",
    "    return torch.einsum(\"ijmn,ikmn,klmn->jlmn\",[d_phi, g_phi, d_phi])\n",
    "\n",
    "\n",
    "# define the energy functional\n",
    "def Energy(phi, g0, g1, f0, f1, sigma, lambd, mask): \n",
    "\n",
    "    '''\n",
    "    compute the energy functional\n",
    "    \n",
    "    Parameters\n",
    "    -----\n",
    "    phi: the diffeomorphism\n",
    "        size: 2 x N x N\n",
    "        \n",
    "    g0, g1: the initial and the target metrics\n",
    "        size: 2 x 2 x N x N\n",
    "        \n",
    "    f0, f1: weighting tensors\n",
    "        size: 2 x 2 x N x N\n",
    "    \n",
    "    sigma: the constant regularization parameter\n",
    "    \n",
    "    lambd: the weight that measures the change in the volumn density\n",
    "    \n",
    "    Returns\n",
    "    -----\n",
    "    The energy fuctional \n",
    "    \n",
    "    ''' \n",
    "    phi_star_g1 = phi_pullback(phi, g1)\n",
    "    phi_star_f1 = phi_pullback(phi, f1)\n",
    "#     means d(g_0,\\phi^*g_1)=d(\\phi_*g_0,g_1), d(f_0,\\phi^*f_1)=d(\\phi_*f_0,f_1)?\n",
    "    E1 = sigma*Squared_distance_Ebin(f0, phi_star_f1, lambd, mask)\n",
    "    E2 = Squared_distance_Ebin(g0, phi_star_g1, lambd, mask)\n",
    "#     print(E2)\n",
    "    \n",
    "    return E1 + E2\n",
    "\n",
    "\n",
    "# define the energy functional\n",
    "def Energy_L2(phi, g0, g1, f0, f1, sigma, weight): # \n",
    "\n",
    "    '''\n",
    "    compute the energy functional\n",
    "    \n",
    "    Parameters\n",
    "    -----\n",
    "    phi: the diffeomorphism\n",
    "        size: 2 x N x N\n",
    "        \n",
    "    g0, g1: the initial and the target metrics\n",
    "        size: 2 x 2 x N x N\n",
    "        \n",
    "    f0, f1: weighting tensors\n",
    "        size: 2 x 2 x N x N\n",
    "    \n",
    "    sigma: the constant regularization parameter\n",
    "    \n",
    "    lambd: the weight that measures the change in the volumn density\n",
    "    \n",
    "    Returns\n",
    "    -----\n",
    "    The energy fuctional \n",
    "    \n",
    "    ''' \n",
    "    phi_star_g1 = phi_pullback(phi, g1)\n",
    "    phi_star_f1 = phi_pullback(phi, f1)\n",
    "    \n",
    "    E1 = sigma*torch.einsum(\"...ij,kij->\",[(f0 - phi_star_f1)**2, weight])\n",
    "    E2 = torch.einsum(\"...ij,kij->\",[(g0 - phi_star_g1)**2, weight])\n",
    "    \n",
    "    return E1 + E2"
   ]
  },
  {
   "cell_type": "code",
   "execution_count": 4,
   "metadata": {},
   "outputs": [],
   "source": [
    "# define the Laplacian inverse\n",
    "\n",
    "def laplace_inverse(u):\n",
    "    '''\n",
    "    this function computes the laplacian inverse of a vector field u of size 2 x size_h x size_w \n",
    "    '''\n",
    "    size_h, size_w = u.shape[-2:]\n",
    "    shape = u.shape\n",
    "    idty = get_idty(size_h, size_w).numpy()\n",
    "    lap = 4. - 2.*(np.cos(2.*np.pi*idty[0]/size_w) + np.cos(2.*np.pi*idty[1]/size_h))\n",
    "    lap[0,0] = 1.\n",
    "    lapinv = 1./lap\n",
    "    lap[0,0] = 0.\n",
    "    lapinv[0,0] = 1.\n",
    "    \n",
    "    u = u.detach().numpy()\n",
    "    fx = np.fft.fftn(u[0])\n",
    "    fy = np.fft.fftn(u[1])\n",
    "    fx *= lapinv\n",
    "    fy *= lapinv\n",
    "    vx = torch.from_numpy(np.real(np.fft.ifftn(fx)))\n",
    "    vy = torch.from_numpy(np.real(np.fft.ifftn(fy)))\n",
    "    \n",
    "    return torch.stack((vx,vy))"
   ]
  },
  {
   "cell_type": "code",
   "execution_count": 5,
   "metadata": {},
   "outputs": [],
   "source": [
    "def Vis_squared_distance_Ebin(g0, g1, a):  \n",
    "    inv_g0 = get_inverse(g0)\n",
    "    inv_g0_g1 = torch.einsum(\"ik...,kj...->...ij\",[inv_g0, g1]) \n",
    "    trK0square = trKsquare(g0, g1) - torch.log(get_det(inv_g0_g1) + 1e-25)**2/2 \n",
    "    theta = torch.min((trK0square/a + 1e-25).sqrt()/4, torch.tensor([np.pi],dtype=torch.double))\n",
    "    \n",
    "    det_g0 = g0[0, 0] * g0[1, 1] - g0[0, 1] * g0[1, 0] + 1e-25\n",
    "    det_g1 = g1[0, 0] * g1[1, 1] - g1[0, 1] * g1[1, 0] + 1e-25\n",
    "    \n",
    "    alpha, beta = det_g0.pow(1/4), det_g1.pow(1/4)\n",
    "    E = 16*a*(alpha**2 - 2*alpha*beta*torch.cos(theta) + beta**2)\n",
    "    fig = plt.figure()\n",
    "    im = plt.imshow(E)\n",
    "    fig.colorbar(im)\n",
    "    plt.gca().invert_yaxis()\n",
    "    plt.show()\n",
    "    return 0"
   ]
  },
  {
   "cell_type": "code",
   "execution_count": 6,
   "metadata": {},
   "outputs": [],
   "source": [
    "def checkNaN(A):\n",
    "    if (A != A).any():\n",
    "        print('NaN')"
   ]
  },
  {
   "cell_type": "code",
   "execution_count": 7,
   "metadata": {},
   "outputs": [],
   "source": [
    "def metric_matching(gi,gm,height,width,mask,Num_ite,epsilon,sigma):\n",
    "    phi_inv = get_idty(height, width)\n",
    "    phi = get_idty(height, width)\n",
    "    idty = get_idty(height, width)\n",
    "    idty.requires_grad_()\n",
    "    f0 = torch.eye(2, dtype=torch.double).repeat(height, width,1,1).permute(2,3,0,1)\n",
    "    f1 = torch.eye(2, dtype=torch.double).repeat(height, width,1,1).permute(2,3,0,1)\n",
    "    det = gi[:,:,0, 0]*gi[:,:,1,1]-gi[:,:,0,1]*gi[:,:,1,0]\n",
    "#     weight = torch.ones_like(mask)\n",
    "    weight = mask\n",
    "#     weight = mask/det#.unsqueeze(0)\n",
    "#     print(mask.shape,det.shape)\n",
    "\n",
    "    for j in range(Num_ite):\n",
    "        phi_actsg0 = phi_pullback(phi_inv, gi.permute(2,3,0,1))\n",
    "        phi_actsf0 = phi_pullback(phi_inv, f0)\n",
    "        E = Energy(idty, phi_actsg0, gm.permute(2,3,0,1), phi_actsf0, f1, sigma, 0.5, weight.unsqueeze(0)) \n",
    "        print(E.item())\n",
    "        E.backward()\n",
    "        v = - laplace_inverse(idty.grad)\n",
    "        with torch.no_grad():\n",
    "            psi =  idty + epsilon*v  \n",
    "            psi[0][psi[0]>width-1]=width-1\n",
    "            psi[1][psi[1]>height-1]=height-1\n",
    "            psi[psi<0]=0\n",
    "            psi_inv =  idty - epsilon*v\n",
    "            psi_inv[0][psi_inv[0]>width-1]=width-1\n",
    "            psi_inv[1][psi_inv[1]>height-1]=height-1\n",
    "            psi_inv[psi_inv<0]=0\n",
    "            phi = compose_function(psi, phi)\n",
    "            phi_inv = compose_function(phi_inv, psi_inv)\n",
    "            idty.grad.data.zero_()\n",
    "#         plot_diffeo(phi, step_size=2, show_axis=True)\n",
    "    gi = phi_pullback(phi_inv, gi.permute(2,3,0,1)).permute(2,3,0,1)\n",
    "    return gi, phi, phi_inv"
   ]
  },
  {
   "cell_type": "code",
   "execution_count": 8,
   "metadata": {},
   "outputs": [],
   "source": [
    "def GetSITKImageFromNP(npimg, has_component_data=False):\n",
    "  # If RGB or tensor data etc, set has_component_data to True so that last dimension is not\n",
    "  # transposed.\n",
    "  # This assumes that the component data is in the last dimension.\n",
    "  # TODO fix this assumption to work for component data in first dimension as well\n",
    "  # Currently works for 2D and 3D images\n",
    "  if has_component_data:\n",
    "    transpose_tuple=(1,0,2)\n",
    "    if len(npimg.shape) == 4:\n",
    "      transpose_tuple=(2,1,0,3)    \n",
    "    return sitk.GetImageFromArray(np.transpose(npimg,transpose_tuple))\n",
    "  else:\n",
    "    transpose_tuple=(1,0)\n",
    "    if len(npimg.shape) == 3:\n",
    "      transpose_tuple=(2,1,0)           \n",
    "    return sitk.GetImageFromArray(np.transpose(npimg, transpose_tuple))"
   ]
  },
  {
   "cell_type": "markdown",
   "metadata": {},
   "source": [
    "## Main Process"
   ]
  },
  {
   "cell_type": "code",
   "execution_count": 9,
   "metadata": {},
   "outputs": [
    {
     "name": "stdout",
     "output_type": "stream",
     "text": [
      "tensor(6.9406e-09, dtype=torch.float64) tensor(7.1009e-10, dtype=torch.float64)\n"
     ]
    }
   ],
   "source": [
    "thresh_mask00 = torch.where(torch.det(g0m)>40000000,1/torch.det(g0m),5e-7)\n",
    "thresh_mask22 = torch.where(torch.det(g2m)>10000000,1/torch.det(g2m),5e-7)\n",
    "print(torch.min(thresh_mask00),torch.min(thresh_mask22))\n",
    "g0m=torch.einsum('ij...,kij->ij...',g0m,thresh_mask00.unsqueeze(0))\n",
    "g2m=torch.einsum('ij...,kij->ij...',g2m,thresh_mask22.unsqueeze(0))\n",
    "\n",
    "# show_2d_tensors(g0m.permute(2,3,0,1), scale=1e3, title=\"g0\", margin=0.05, dpi=20)\n",
    "# show_2d_tensors(g2m.permute(2,3,0,1), scale=1e3, title=\"g2\", margin=0.05, dpi=20)\n",
    "\n",
    "# fig = plt.figure()\n",
    "# im = plt.imshow(torch.det(g0m))#torch.det(g2m).detach().numpy()\n",
    "# fig.colorbar(im)\n",
    "# plt.gca().invert_yaxis()\n",
    "# plt.show()\n",
    "# print(torch.min(torch.det(g2m)))\n",
    "# sitk.WriteImage(GetSITKImageFromNP(g0m, has_component_data=True), 'InvThreshBrainTemplateEbin400/brain103818_input4e7_thresh_tensors.nhdr')\n",
    "# sitk.WriteImage(GetSITKImageFromNP(g2m, has_component_data=True), 'InvThreshBrainTemplateEbin400/brain111312_input_thresh_tensors.nhdr')"
   ]
  },
  {
   "cell_type": "code",
   "execution_count": 10,
   "metadata": {
    "scrolled": false
   },
   "outputs": [
    {
     "name": "stdout",
     "output_type": "stream",
     "text": [
      "0\n",
      "1.895145046879726\n"
     ]
    },
    {
     "name": "stderr",
     "output_type": "stream",
     "text": [
      "/home/sci/hdai/MetricMatchZhe/Packages/SplitEbinMetric.py:381: UserWarning: This overload of nonzero is deprecated:\n",
      "\tnonzero()\n",
      "Consider using one of the following signatures instead:\n",
      "\tnonzero(*, bool as_tuple) (Triggered internally at  /opt/conda/conda-bld/pytorch_1603729006826/work/torch/csrc/utils/python_arg_parser.cpp:882.)\n",
      "  Ind_inRange = (theta<0).nonzero().reshape(-1) ## G[i] is in the range of the exponential map at gm\n"
     ]
    },
    {
     "name": "stdout",
     "output_type": "stream",
     "text": [
      "1.8601763301224963\n",
      "1.8951450468822082\n",
      "1.865395447726289\n",
      "1.8347981722683289\n",
      "1.8071350517825937\n",
      "1.8347981722706146\n",
      "1.8100872106931296\n",
      "1.7850760927896236\n",
      "1.7611646658696718\n",
      "1.7850760927916787\n",
      "1.763433223695939\n",
      "1.741508202087328\n"
     ]
    },
    {
     "ename": "KeyboardInterrupt",
     "evalue": "",
     "output_type": "error",
     "traceback": [
      "\u001b[0;31m---------------------------------------------------------------------------\u001b[0m",
      "\u001b[0;31mKeyboardInterrupt\u001b[0m                         Traceback (most recent call last)",
      "\u001b[0;32m<ipython-input-10-d3bd7d43aecd>\u001b[0m in \u001b[0;36m<module>\u001b[0;34m()\u001b[0m\n\u001b[1;32m     32\u001b[0m     \u001b[0mNum_ite\u001b[0m \u001b[0;34m=\u001b[0m \u001b[0;36m2\u001b[0m\u001b[0;34m\u001b[0m\u001b[0;34m\u001b[0m\u001b[0m\n\u001b[1;32m     33\u001b[0m \u001b[0;34m\u001b[0m\u001b[0m\n\u001b[0;32m---> 34\u001b[0;31m     \u001b[0mg0m\u001b[0m\u001b[0;34m,\u001b[0m\u001b[0mphi0\u001b[0m\u001b[0;34m,\u001b[0m\u001b[0mphi_inv0\u001b[0m \u001b[0;34m=\u001b[0m \u001b[0mmetric_matching\u001b[0m\u001b[0;34m(\u001b[0m\u001b[0mg0m\u001b[0m\u001b[0;34m,\u001b[0m\u001b[0mgm\u001b[0m\u001b[0;34m,\u001b[0m\u001b[0mheight\u001b[0m\u001b[0;34m,\u001b[0m\u001b[0mwidth\u001b[0m\u001b[0;34m,\u001b[0m\u001b[0mmask\u001b[0m\u001b[0;34m,\u001b[0m\u001b[0mNum_ite\u001b[0m\u001b[0;34m,\u001b[0m\u001b[0mepsilon\u001b[0m\u001b[0;34m,\u001b[0m\u001b[0msigma\u001b[0m\u001b[0;34m)\u001b[0m\u001b[0;34m\u001b[0m\u001b[0;34m\u001b[0m\u001b[0m\n\u001b[0m\u001b[1;32m     35\u001b[0m     \u001b[0mg2m\u001b[0m\u001b[0;34m,\u001b[0m\u001b[0mphi2\u001b[0m\u001b[0;34m,\u001b[0m\u001b[0mphi_inv2\u001b[0m \u001b[0;34m=\u001b[0m \u001b[0mmetric_matching\u001b[0m\u001b[0;34m(\u001b[0m\u001b[0mg2m\u001b[0m\u001b[0;34m,\u001b[0m\u001b[0mgm\u001b[0m\u001b[0;34m,\u001b[0m\u001b[0mheight\u001b[0m\u001b[0;34m,\u001b[0m\u001b[0mwidth\u001b[0m\u001b[0;34m,\u001b[0m\u001b[0mmask\u001b[0m\u001b[0;34m,\u001b[0m\u001b[0mNum_ite\u001b[0m\u001b[0;34m,\u001b[0m\u001b[0mepsilon\u001b[0m\u001b[0;34m,\u001b[0m\u001b[0msigma\u001b[0m\u001b[0;34m)\u001b[0m\u001b[0;34m\u001b[0m\u001b[0;34m\u001b[0m\u001b[0m\n\u001b[1;32m     36\u001b[0m \u001b[0;31m#     phi_inv0_final = compose_function(phi_inv0, phi_inv0_final)\u001b[0m\u001b[0;34m\u001b[0m\u001b[0;34m\u001b[0m\u001b[0;34m\u001b[0m\u001b[0m\n",
      "\u001b[0;32m<ipython-input-7-5eda63918b73>\u001b[0m in \u001b[0;36mmetric_matching\u001b[0;34m(gi, gm, height, width, mask, Num_ite, epsilon, sigma)\u001b[0m\n\u001b[1;32m     17\u001b[0m         \u001b[0mE\u001b[0m \u001b[0;34m=\u001b[0m \u001b[0mEnergy\u001b[0m\u001b[0;34m(\u001b[0m\u001b[0midty\u001b[0m\u001b[0;34m,\u001b[0m \u001b[0mphi_actsg0\u001b[0m\u001b[0;34m,\u001b[0m \u001b[0mgm\u001b[0m\u001b[0;34m.\u001b[0m\u001b[0mpermute\u001b[0m\u001b[0;34m(\u001b[0m\u001b[0;36m2\u001b[0m\u001b[0;34m,\u001b[0m\u001b[0;36m3\u001b[0m\u001b[0;34m,\u001b[0m\u001b[0;36m0\u001b[0m\u001b[0;34m,\u001b[0m\u001b[0;36m1\u001b[0m\u001b[0;34m)\u001b[0m\u001b[0;34m,\u001b[0m \u001b[0mphi_actsf0\u001b[0m\u001b[0;34m,\u001b[0m \u001b[0mf1\u001b[0m\u001b[0;34m,\u001b[0m \u001b[0msigma\u001b[0m\u001b[0;34m,\u001b[0m \u001b[0;36m0.5\u001b[0m\u001b[0;34m,\u001b[0m \u001b[0mweight\u001b[0m\u001b[0;34m.\u001b[0m\u001b[0munsqueeze\u001b[0m\u001b[0;34m(\u001b[0m\u001b[0;36m0\u001b[0m\u001b[0;34m)\u001b[0m\u001b[0;34m)\u001b[0m\u001b[0;34m\u001b[0m\u001b[0;34m\u001b[0m\u001b[0m\n\u001b[1;32m     18\u001b[0m         \u001b[0mprint\u001b[0m\u001b[0;34m(\u001b[0m\u001b[0mE\u001b[0m\u001b[0;34m.\u001b[0m\u001b[0mitem\u001b[0m\u001b[0;34m(\u001b[0m\u001b[0;34m)\u001b[0m\u001b[0;34m)\u001b[0m\u001b[0;34m\u001b[0m\u001b[0;34m\u001b[0m\u001b[0m\n\u001b[0;32m---> 19\u001b[0;31m         \u001b[0mE\u001b[0m\u001b[0;34m.\u001b[0m\u001b[0mbackward\u001b[0m\u001b[0;34m(\u001b[0m\u001b[0;34m)\u001b[0m\u001b[0;34m\u001b[0m\u001b[0;34m\u001b[0m\u001b[0m\n\u001b[0m\u001b[1;32m     20\u001b[0m         \u001b[0mv\u001b[0m \u001b[0;34m=\u001b[0m \u001b[0;34m-\u001b[0m \u001b[0mlaplace_inverse\u001b[0m\u001b[0;34m(\u001b[0m\u001b[0midty\u001b[0m\u001b[0;34m.\u001b[0m\u001b[0mgrad\u001b[0m\u001b[0;34m)\u001b[0m\u001b[0;34m\u001b[0m\u001b[0;34m\u001b[0m\u001b[0m\n\u001b[1;32m     21\u001b[0m         \u001b[0;32mwith\u001b[0m \u001b[0mtorch\u001b[0m\u001b[0;34m.\u001b[0m\u001b[0mno_grad\u001b[0m\u001b[0;34m(\u001b[0m\u001b[0;34m)\u001b[0m\u001b[0;34m:\u001b[0m\u001b[0;34m\u001b[0m\u001b[0;34m\u001b[0m\u001b[0m\n",
      "\u001b[0;32m/home/sci/hdai/anaconda2/envs/python37/lib/python3.7/site-packages/torch/tensor.py\u001b[0m in \u001b[0;36mbackward\u001b[0;34m(self, gradient, retain_graph, create_graph)\u001b[0m\n\u001b[1;32m    219\u001b[0m                 \u001b[0mretain_graph\u001b[0m\u001b[0;34m=\u001b[0m\u001b[0mretain_graph\u001b[0m\u001b[0;34m,\u001b[0m\u001b[0;34m\u001b[0m\u001b[0;34m\u001b[0m\u001b[0m\n\u001b[1;32m    220\u001b[0m                 create_graph=create_graph)\n\u001b[0;32m--> 221\u001b[0;31m         \u001b[0mtorch\u001b[0m\u001b[0;34m.\u001b[0m\u001b[0mautograd\u001b[0m\u001b[0;34m.\u001b[0m\u001b[0mbackward\u001b[0m\u001b[0;34m(\u001b[0m\u001b[0mself\u001b[0m\u001b[0;34m,\u001b[0m \u001b[0mgradient\u001b[0m\u001b[0;34m,\u001b[0m \u001b[0mretain_graph\u001b[0m\u001b[0;34m,\u001b[0m \u001b[0mcreate_graph\u001b[0m\u001b[0;34m)\u001b[0m\u001b[0;34m\u001b[0m\u001b[0;34m\u001b[0m\u001b[0m\n\u001b[0m\u001b[1;32m    222\u001b[0m \u001b[0;34m\u001b[0m\u001b[0m\n\u001b[1;32m    223\u001b[0m     \u001b[0;32mdef\u001b[0m \u001b[0mregister_hook\u001b[0m\u001b[0;34m(\u001b[0m\u001b[0mself\u001b[0m\u001b[0;34m,\u001b[0m \u001b[0mhook\u001b[0m\u001b[0;34m)\u001b[0m\u001b[0;34m:\u001b[0m\u001b[0;34m\u001b[0m\u001b[0;34m\u001b[0m\u001b[0m\n",
      "\u001b[0;32m/home/sci/hdai/anaconda2/envs/python37/lib/python3.7/site-packages/torch/autograd/__init__.py\u001b[0m in \u001b[0;36mbackward\u001b[0;34m(tensors, grad_tensors, retain_graph, create_graph, grad_variables)\u001b[0m\n\u001b[1;32m    130\u001b[0m     Variable._execution_engine.run_backward(\n\u001b[1;32m    131\u001b[0m         \u001b[0mtensors\u001b[0m\u001b[0;34m,\u001b[0m \u001b[0mgrad_tensors_\u001b[0m\u001b[0;34m,\u001b[0m \u001b[0mretain_graph\u001b[0m\u001b[0;34m,\u001b[0m \u001b[0mcreate_graph\u001b[0m\u001b[0;34m,\u001b[0m\u001b[0;34m\u001b[0m\u001b[0;34m\u001b[0m\u001b[0m\n\u001b[0;32m--> 132\u001b[0;31m         allow_unreachable=True)  # allow_unreachable flag\n\u001b[0m\u001b[1;32m    133\u001b[0m \u001b[0;34m\u001b[0m\u001b[0m\n\u001b[1;32m    134\u001b[0m \u001b[0;34m\u001b[0m\u001b[0m\n",
      "\u001b[0;31mKeyboardInterrupt\u001b[0m: "
     ]
    }
   ],
   "source": [
    "E_103818_m, E_111312_m=[],[]\n",
    "phi_inv0_final = get_idty(height, width)\n",
    "phi0_final = get_idty(height, width)\n",
    "phi_inv2_final = get_idty(height, width)\n",
    "phi2_final = get_idty(height, width)\n",
    "for i in range(5001):\n",
    "    G = torch.stack((g0m,g2m))\n",
    "    a = 0.5\n",
    "    gm = get_KarcherMean(G, a)\n",
    "    E_103818_m.append(torch.einsum(\"ij...,kij->\",[(g0m - gm)**2, mask.unsqueeze(0)]).item())\n",
    "    E_111312_m.append(torch.einsum(\"ij...,kij->\",[(g2m - gm)**2, mask.unsqueeze(0)]).item())\n",
    "    if i%500 ==0:\n",
    "        print(i)\n",
    "        gmm = np.zeros((height,width,3))\n",
    "        gmm[:,:,0]=gm[:,:,0,0]\n",
    "        gmm[:,:,1]=gm[:,:,0,1]\n",
    "        gmm[:,:,2]=gm[:,:,1,1]\n",
    "#         sitk.WriteImage(GetSITKImageFromNP(gmm, has_component_data=True), 'InvThreshBrainTemplateEbin5kReg1e-2/brain103818_111312_noweight_reg1e-2_'+str(i)+'_thresh_tensors.nhdr')\n",
    "#         sio.savemat('InvThreshBrainTemplateEbin5kReg1e-2/111312toTemp_noweight_reg1e-2_'+str(i)+'_phi_inv_ebin.mat', {'diffeo': phi_inv2_final.detach().numpy()})\n",
    "#         sio.savemat('InvThreshBrainTemplateEbin5kReg1e-2/111312toTemp_noweight_reg1e-2_'+str(i)+'_phi_ebin.mat', {'diffeo': phi2_final.detach().numpy()})\n",
    "#         sio.savemat('InvThreshBrainTemplateEbin5kReg1e-2/103818toTemp_noweight_reg1e-2_'+str(i)+'_phi_inv_ebin.mat', {'diffeo': phi_inv0_final.detach().numpy()})\n",
    "#         sio.savemat('InvThreshBrainTemplateEbin5kReg1e-2/103818toTemp_noweight_reg1e-2_'+str(i)+'_phi_ebin.mat', {'diffeo': phi0_final.detach().numpy()})\n",
    "#         sio.savemat('InvThreshBrainTemplateEbin5kReg1e-2/mask_reg_1e-2_'+str(i)+'.mat', {'mask': (mask0+mask2).detach().numpy()})\n",
    "        #         plot_diffeo(phi_inv2_final, step_size=2, show_axis=True)\n",
    "#         plot_diffeo(phi_inv0_final, step_size=2, show_axis=True)\n",
    "        \n",
    "    lambd = 0.5\n",
    "    sigma = 1e-2\n",
    "#     epsilon = 1e-18\n",
    "#     epsilon = 5e0 #Num_ite 1\n",
    "    epsilon = 1e0 #5e-1 #Num_ite 2\n",
    "    Num_ite = 2\n",
    "    \n",
    "    g0m,phi0,phi_inv0 = metric_matching(g0m,gm,height,width,mask,Num_ite,epsilon,sigma)\n",
    "    g2m,phi2,phi_inv2 = metric_matching(g2m,gm,height,width,mask,Num_ite,epsilon,sigma)\n",
    "#     phi_inv0_final = compose_function(phi_inv0, phi_inv0_final)\n",
    "    phi_inv0_final = compose_function(phi_inv0_final, phi_inv0)\n",
    "    phi0_final = compose_function(phi0, phi0_final)\n",
    "    mask0 = compose_function(mask0, phi_inv0)\n",
    "#     phi_inv2_final = compose_function(phi_inv2, phi_inv2_final)\n",
    "    phi_inv2_final = compose_function(phi_inv2_final, phi_inv2)\n",
    "    phi2_final = compose_function(phi2, phi2_final)\n",
    "    mask2 = compose_function(mask2, phi_inv2)"
   ]
  },
  {
   "cell_type": "code",
   "execution_count": null,
   "metadata": {},
   "outputs": [],
   "source": [
    "plt.plot(E_103818_m)\n",
    "plt.plot(E_111312_m)"
   ]
  },
  {
   "cell_type": "code",
   "execution_count": null,
   "metadata": {},
   "outputs": [],
   "source": [
    "print(E_103818_m[0]/E_111312_m[0])"
   ]
  },
  {
   "cell_type": "code",
   "execution_count": null,
   "metadata": {},
   "outputs": [],
   "source": [
    "# mask = mask0+mask2\n",
    "# sio.savemat('InvThreshBrainTemplateEbin5k/mask_reg_1e-1.mat', {'mask': mask.detach().numpy()})"
   ]
  },
  {
   "cell_type": "markdown",
   "metadata": {},
   "source": [
    "### Save template"
   ]
  },
  {
   "cell_type": "code",
   "execution_count": null,
   "metadata": {},
   "outputs": [],
   "source": [
    "# sio.savemat('InvThreshBrainTemplateEbin5k/E_103818_m_ebin.mat', {'energy': E_103818_m})\n",
    "# sio.savemat('InvThreshBrainTemplateEbin5k/E_111312_m_ebin.mat', {'energy': E_111312_m})"
   ]
  },
  {
   "cell_type": "code",
   "execution_count": null,
   "metadata": {},
   "outputs": [],
   "source": [
    "plot_diffeo(phi_inv2_final, step_size=2, show_axis=True)\n",
    "plot_diffeo(phi_inv0_final, step_size=2, show_axis=True)\n",
    "plot_diffeo(phi2_final, step_size=2, show_axis=True)\n",
    "plot_diffeo(phi0_final, step_size=2, show_axis=True)"
   ]
  },
  {
   "cell_type": "code",
   "execution_count": null,
   "metadata": {},
   "outputs": [],
   "source": [
    "# sitk.WriteImage(GetSITKImageFromNP(gmm, has_component_data=True), 'InvThreshBrainTemplateEbin5k/brain103818_111312_noweight_reg1e-1_thresh_tensors.nhdr')\n",
    "# sio.savemat('InvThreshBrainTemplateEbin5k/111312toTemp_noweight_reg1e-1_phi_inv_ebin.mat', {'diffeo': phi_inv2_final.detach().numpy()})\n",
    "# sio.savemat('InvThreshBrainTemplateEbin5k/111312toTemp_noweight_reg1e-1_phi_ebin.mat', {'diffeo': phi2_final.detach().numpy()})\n",
    "# sio.savemat('InvThreshBrainTemplateEbin5k/103818toTemp_noweight_reg1e-1_phi_inv_ebin.mat', {'diffeo': phi_inv0_final.detach().numpy()})\n",
    "# sio.savemat('InvThreshBrainTemplateEbin5k/103818toTemp_noweight_reg1e-1_phi_ebin.mat', {'diffeo': phi0_final.detach().numpy()})"
   ]
  },
  {
   "cell_type": "code",
   "execution_count": null,
   "metadata": {},
   "outputs": [],
   "source": [
    "def plot_diffeo_custom(diffeo, title, step_size=1, show_axis=False):\n",
    "    diffeo = diffeo.detach().numpy()\n",
    "    import matplotlib.pyplot as plt\n",
    "    #\n",
    "    plt.figure(num=None,figsize=(7.25,8.7),  dpi=100, facecolor='w', edgecolor='k')\n",
    "    plt.tight_layout(pad=0)\n",
    "    if show_axis is False:\n",
    "        plt.axis('off')\n",
    "    ax = plt.gca()\n",
    "    ax.set_aspect('equal')\n",
    "    for h in range(0, diffeo.shape[1], step_size):\n",
    "        plt.plot(diffeo[1, h, :], diffeo[0, h, :], 'k', linewidth=0.5)\n",
    "#         plt.plot(diffeo[0, h, :], diffeo[1, h, :], 'k', linewidth=0.5)\n",
    "    for w in range(0, diffeo.shape[2], step_size):\n",
    "        plt.plot(diffeo[1, :, w], diffeo[0, :, w], 'k', linewidth=0.5)\n",
    "#         plt.plot(diffeo[0, :, w], diffeo[1, :, w], 'k', linewidth=0.5)\n",
    "        \n",
    "#     if(title):\n",
    "#         plt.title(title)\n",
    "    plt.savefig(title, bbox_inches='tight')\n",
    "    plt.show()"
   ]
  },
  {
   "cell_type": "code",
   "execution_count": null,
   "metadata": {},
   "outputs": [],
   "source": [
    "plot_diffeo_custom(phi0_final,'103818toTemp', step_size=2)\n",
    "plot_diffeo_custom(phi2_final,'111312toTemp', step_size=2)"
   ]
  },
  {
   "cell_type": "code",
   "execution_count": null,
   "metadata": {},
   "outputs": [],
   "source": [
    "# path = 'InvThreshBrainTemplateEbin1k/103818toTemp_noweight_reg1_phi_ebin'\n",
    "# plot_diffeo_custom(torch.from_numpy(sio.loadmat(path+'.mat')['diffeo']).double(), path+'.pdf', step_size=2)"
   ]
  },
  {
   "cell_type": "code",
   "execution_count": null,
   "metadata": {},
   "outputs": [],
   "source": [
    "# np.min((np.sqrt(-1),3.14))"
   ]
  },
  {
   "cell_type": "code",
   "execution_count": null,
   "metadata": {},
   "outputs": [],
   "source": [
    "# plot_diffeo_custom(phi0_final, '103818', step_size=3)\n",
    "# plot_diffeo_custom(phi2_final, '111312', step_size=3)"
   ]
  },
  {
   "cell_type": "code",
   "execution_count": null,
   "metadata": {},
   "outputs": [],
   "source": []
  }
 ],
 "metadata": {
  "kernelspec": {
   "display_name": "Python 3",
   "language": "python",
   "name": "python3"
  },
  "language_info": {
   "codemirror_mode": {
    "name": "ipython",
    "version": 3
   },
   "file_extension": ".py",
   "mimetype": "text/x-python",
   "name": "python",
   "nbconvert_exporter": "python",
   "pygments_lexer": "ipython3",
   "version": "3.7.9"
  },
  "varInspector": {
   "cols": {
    "lenName": 16,
    "lenType": 16,
    "lenVar": 40
   },
   "kernels_config": {
    "python": {
     "delete_cmd_postfix": "",
     "delete_cmd_prefix": "del ",
     "library": "var_list.py",
     "varRefreshCmd": "print(var_dic_list())"
    },
    "r": {
     "delete_cmd_postfix": ") ",
     "delete_cmd_prefix": "rm(",
     "library": "var_list.r",
     "varRefreshCmd": "cat(var_dic_list()) "
    }
   },
   "types_to_exclude": [
    "module",
    "function",
    "builtin_function_or_method",
    "instance",
    "_Feature"
   ],
   "window_display": false
  }
 },
 "nbformat": 4,
 "nbformat_minor": 2
}
