{
 "cells": [
  {
   "cell_type": "code",
   "execution_count": 1,
   "metadata": {},
   "outputs": [],
   "source": [
    "import torch\n",
    "import numpy as np\n",
    "from Packages.RegistrationFunc import *\n",
    "from Packages.SplitEbinMetric import *\n",
    "from Packages.GeoPlot import *\n",
    "import scipy.io as sio\n",
    "import matplotlib.pyplot as plt\n",
    "import SimpleITK as sitk"
   ]
  },
  {
   "cell_type": "code",
   "execution_count": 8,
   "metadata": {},
   "outputs": [],
   "source": [
    "def Vis_quared_distance_Ebin(g0, g1, a=0.5):  \n",
    "    inv_g0 = torch.inverse(g0)\n",
    "    inv_g0_g1 = torch.einsum(\"...ik,...kj->...ij\",[inv_g0, g1]) # N x N x 2 x 2\n",
    "    trK0square = trKsquare(g0, g1) - torch.log(torch.det(inv_g0_g1) + 1e-25)**2/2 \n",
    "    theta = torch.min((trK0square/a + 1e-25).sqrt()/4, torch.tensor([np.pi],dtype=torch.double))\n",
    "    \n",
    "    det_g0 = g0[0, 0] * g0[1, 1] - g0[0, 1] * g0[1, 0] + 1e-25\n",
    "    det_g1 = g1[0, 0] * g1[1, 1] - g1[0, 1] * g1[1, 0] + 1e-25\n",
    "    \n",
    "    alpha, beta = det_g0.pow(1/4), det_g1.pow(1/4)\n",
    "    E = 16*a*(alpha**2 - 2*alpha*beta*torch.cos(theta) + beta**2)\n",
    "    fig = plt.figure()\n",
    "    im = plt.imshow(E.detach().numpy())\n",
    "    fig.colorbar(im)\n",
    "    plt.gca().invert_yaxis()\n",
    "    plt.show()\n",
    "    return 0"
   ]
  },
  {
   "cell_type": "code",
   "execution_count": 9,
   "metadata": {},
   "outputs": [],
   "source": [
    "rect_vary_tens = sitk.GetArrayFromImage(sitk.ReadImage('Data/metpy/metpy_rect_vary_tens.nhdr'))\n",
    "rect_iso_tens = sitk.GetArrayFromImage(sitk.ReadImage('Data/metpy/metpy_rect_iso_tens.nhdr'))\n",
    "rect_vary_tens = torch.from_numpy(rect_vary_tens).double()\n",
    "rect_iso_tens = torch.from_numpy(rect_iso_tens).double()\n",
    "\n",
    "height, width = rect_vary_tens.shape[:2]\n",
    "g0, g1 = torch.zeros(2, 2, height, width, dtype=torch.double), torch.zeros(2, 2, height, width, dtype=torch.double)\n",
    "g0[0, 0] = rect_vary_tens[:,:,0]\n",
    "g0[0, 1] = rect_vary_tens[:,:,1]\n",
    "g0[1, 0] = rect_vary_tens[:,:,1]\n",
    "g0[1, 1] = rect_vary_tens[:,:,2]\n",
    "g1[0, 0] = rect_iso_tens[:,:,0]\n",
    "g1[0, 1] = rect_iso_tens[:,:,1]\n",
    "g1[1, 0] = rect_iso_tens[:,:,1]\n",
    "g1[1, 1] = rect_iso_tens[:,:,2]"
   ]
  },
  {
   "cell_type": "markdown",
   "metadata": {},
   "source": [
    "### pointwist Ebin dist between metpy_rect_vary_tens and metpy_rect_iso_tens"
   ]
  },
  {
   "cell_type": "code",
   "execution_count": 10,
   "metadata": {},
   "outputs": [
    {
     "ename": "RuntimeError",
     "evalue": "A must be batches of square matrices, but they are 10 by 5 matrices",
     "output_type": "error",
     "traceback": [
      "\u001b[0;31m---------------------------------------------------------------------------\u001b[0m",
      "\u001b[0;31mRuntimeError\u001b[0m                              Traceback (most recent call last)",
      "\u001b[0;32m<ipython-input-10-72e67583c283>\u001b[0m in \u001b[0;36m<module>\u001b[0;34m\u001b[0m\n\u001b[0;32m----> 1\u001b[0;31m \u001b[0mVis_quared_distance_Ebin\u001b[0m\u001b[0;34m(\u001b[0m\u001b[0mg0\u001b[0m\u001b[0;34m,\u001b[0m \u001b[0mg1\u001b[0m\u001b[0;34m,\u001b[0m \u001b[0ma\u001b[0m\u001b[0;34m=\u001b[0m\u001b[0;36m0.5\u001b[0m\u001b[0;34m)\u001b[0m\u001b[0;34m\u001b[0m\u001b[0;34m\u001b[0m\u001b[0m\n\u001b[0m",
      "\u001b[0;32m<ipython-input-8-20281f0718dd>\u001b[0m in \u001b[0;36mVis_quared_distance_Ebin\u001b[0;34m(g0, g1, a)\u001b[0m\n\u001b[1;32m      1\u001b[0m \u001b[0;32mdef\u001b[0m \u001b[0mVis_quared_distance_Ebin\u001b[0m\u001b[0;34m(\u001b[0m\u001b[0mg0\u001b[0m\u001b[0;34m,\u001b[0m \u001b[0mg1\u001b[0m\u001b[0;34m,\u001b[0m \u001b[0ma\u001b[0m\u001b[0;34m=\u001b[0m\u001b[0;36m0.5\u001b[0m\u001b[0;34m)\u001b[0m\u001b[0;34m:\u001b[0m\u001b[0;34m\u001b[0m\u001b[0;34m\u001b[0m\u001b[0m\n\u001b[0;32m----> 2\u001b[0;31m     \u001b[0minv_g0\u001b[0m \u001b[0;34m=\u001b[0m \u001b[0mtorch\u001b[0m\u001b[0;34m.\u001b[0m\u001b[0minverse\u001b[0m\u001b[0;34m(\u001b[0m\u001b[0mg0\u001b[0m\u001b[0;34m)\u001b[0m\u001b[0;34m\u001b[0m\u001b[0;34m\u001b[0m\u001b[0m\n\u001b[0m\u001b[1;32m      3\u001b[0m     \u001b[0minv_g0_g1\u001b[0m \u001b[0;34m=\u001b[0m \u001b[0mtorch\u001b[0m\u001b[0;34m.\u001b[0m\u001b[0meinsum\u001b[0m\u001b[0;34m(\u001b[0m\u001b[0;34m\"ik...,kj...->...ij\"\u001b[0m\u001b[0;34m,\u001b[0m\u001b[0;34m[\u001b[0m\u001b[0minv_g0\u001b[0m\u001b[0;34m,\u001b[0m \u001b[0mg1\u001b[0m\u001b[0;34m]\u001b[0m\u001b[0;34m)\u001b[0m \u001b[0;31m# N x N x 2 x 2\u001b[0m\u001b[0;34m\u001b[0m\u001b[0;34m\u001b[0m\u001b[0m\n\u001b[1;32m      4\u001b[0m     \u001b[0mtrK0square\u001b[0m \u001b[0;34m=\u001b[0m \u001b[0mtrKsquare\u001b[0m\u001b[0;34m(\u001b[0m\u001b[0mg0\u001b[0m\u001b[0;34m,\u001b[0m \u001b[0mg1\u001b[0m\u001b[0;34m)\u001b[0m \u001b[0;34m-\u001b[0m \u001b[0mtorch\u001b[0m\u001b[0;34m.\u001b[0m\u001b[0mlog\u001b[0m\u001b[0;34m(\u001b[0m\u001b[0mget_det\u001b[0m\u001b[0;34m(\u001b[0m\u001b[0minv_g0_g1\u001b[0m\u001b[0;34m)\u001b[0m \u001b[0;34m+\u001b[0m \u001b[0;36m1e-25\u001b[0m\u001b[0;34m)\u001b[0m\u001b[0;34m**\u001b[0m\u001b[0;36m2\u001b[0m\u001b[0;34m/\u001b[0m\u001b[0;36m2\u001b[0m\u001b[0;34m\u001b[0m\u001b[0;34m\u001b[0m\u001b[0m\n\u001b[1;32m      5\u001b[0m     \u001b[0mtheta\u001b[0m \u001b[0;34m=\u001b[0m \u001b[0mtorch\u001b[0m\u001b[0;34m.\u001b[0m\u001b[0mmin\u001b[0m\u001b[0;34m(\u001b[0m\u001b[0;34m(\u001b[0m\u001b[0mtrK0square\u001b[0m\u001b[0;34m/\u001b[0m\u001b[0ma\u001b[0m \u001b[0;34m+\u001b[0m \u001b[0;36m1e-25\u001b[0m\u001b[0;34m)\u001b[0m\u001b[0;34m.\u001b[0m\u001b[0msqrt\u001b[0m\u001b[0;34m(\u001b[0m\u001b[0;34m)\u001b[0m\u001b[0;34m/\u001b[0m\u001b[0;36m4\u001b[0m\u001b[0;34m,\u001b[0m \u001b[0mtorch\u001b[0m\u001b[0;34m.\u001b[0m\u001b[0mtensor\u001b[0m\u001b[0;34m(\u001b[0m\u001b[0;34m[\u001b[0m\u001b[0mnp\u001b[0m\u001b[0;34m.\u001b[0m\u001b[0mpi\u001b[0m\u001b[0;34m]\u001b[0m\u001b[0;34m,\u001b[0m\u001b[0mdtype\u001b[0m\u001b[0;34m=\u001b[0m\u001b[0mtorch\u001b[0m\u001b[0;34m.\u001b[0m\u001b[0mdouble\u001b[0m\u001b[0;34m)\u001b[0m\u001b[0;34m)\u001b[0m\u001b[0;34m\u001b[0m\u001b[0;34m\u001b[0m\u001b[0m\n",
      "\u001b[0;31mRuntimeError\u001b[0m: A must be batches of square matrices, but they are 10 by 5 matrices"
     ]
    }
   ],
   "source": [
    "Vis_quared_distance_Ebin(g0, g1, a=0.5)"
   ]
  },
  {
   "cell_type": "code",
   "execution_count": null,
   "metadata": {},
   "outputs": [],
   "source": [
    "show_2d_tensors(g0, scale=1, title=\"g0\", margin=0.05, dpi=20)\n",
    "show_2d_tensors(g1, scale=1, title=\"g1\", margin=0.05, dpi=20)"
   ]
  },
  {
   "cell_type": "markdown",
   "metadata": {},
   "source": [
    "### Karcher Mean of each row in metpy_rect_vary_tens"
   ]
  },
  {
   "cell_type": "code",
   "execution_count": null,
   "metadata": {},
   "outputs": [],
   "source": [
    "g0_km = torch.unsqueeze(g0,-1).permute(3,4,2,0,1)#[10,1,5,2,2]\n",
    "print(g0_km.shape)\n",
    "gm = get_KarcherMean(g0_km, a=0.5)#[1,5,2,2]\n",
    "print(gm.shape)\n",
    "show_2d_tensors(gm.permute(2,3,1,0), scale=1, title=\"gm\", margin=0.05, dpi=20)"
   ]
  },
  {
   "cell_type": "code",
   "execution_count": null,
   "metadata": {},
   "outputs": [],
   "source": [
    "for i in range(10):\n",
    "    show_2d_tensors(g0_km[i].permute(2,3,1,0), scale=1, title=\"g0_km\"+str(i), margin=0.05, dpi=20)"
   ]
  },
  {
   "cell_type": "markdown",
   "metadata": {},
   "source": [
    "### Geodesic between the [0,y] and [9,y] in metpy_rect_vary_tens"
   ]
  },
  {
   "cell_type": "code",
   "execution_count": null,
   "metadata": {},
   "outputs": [],
   "source": [
    "Tpts = 7\n",
    "g0_geo = g0.permute(2,3,0,1)\n",
    "g1_geo = g1.permute(2,3,0,1)\n",
    "print(g0_geo.shape())\n",
    "# geo_group = torch.zeros((Tpts,5,10,2,2))\n",
    "# for i in range(5):\n",
    "#     geo_group[i] = get_Geo(g0_geo[i,0], g0_geo[i,9], 0.5, Tpts)\n",
    "geo_group = get_Geo(g0_geo, g1_geo, 0.5, Tpts)"
   ]
  },
  {
   "cell_type": "code",
   "execution_count": null,
   "metadata": {},
   "outputs": [],
   "source": [
    "# show_2d_tensors(geo_group[i].permute(2,3,0,1), scale=1, title=\"gm\", margin=0.05, dpi=20)"
   ]
  },
  {
   "cell_type": "code",
   "execution_count": null,
   "metadata": {},
   "outputs": [],
   "source": [
    "def show_2d_tensors(nda0, scale=0.5, title=None, margin=0.05, dpi=80):\n",
    "    \n",
    "    nda = torch.zeros(*nda0.shape[-2:], 3, dtype=torch.double)\n",
    "    nda[:,:,0] = nda0[0,0,:,:]\n",
    "    nda[:,:,1] = nda0[0,1,:,:]\n",
    "    nda[:,:,2] = nda0[1,1,:,:]\n",
    "    nda = nda.numpy()\n",
    "    \n",
    "    if nda.ndim == 3:\n",
    "      # fastest dim, either component or x\n",
    "      c = nda.shape[-1]       \n",
    "      # the number of component is 3 consider it a tensor image\n",
    "      if c != 3:\n",
    "        raise Runtime(\"Unable to show 3D-vector Image\")\n",
    "\n",
    "    xsize = nda.shape[0]\n",
    "    ysize = nda.shape[1]\n",
    "\n",
    "    # Make a figure big enough to accommodate an axis of xpixels by ypixels\n",
    "    # as well as the ticklabels, etc...\n",
    "    if xsize > dpi and ysize > dpi:\n",
    "        figsize = (1 + margin) * ysize / dpi, (1 + margin) * xsize / dpi\n",
    "    else:\n",
    "        figsize = (1 + margin) * dpi / ysize, (1 + margin) * dpi / xsize\n",
    "        \n",
    "    fig = plt.figure(figsize=figsize)\n",
    "    # Make the axis the right size...\n",
    "    ax = fig.add_axes([margin, margin, 1 - 2*margin, 1 - 2*margin])\n",
    "\n",
    "    tens = np.zeros((2,2))\n",
    "    triu_idx = np.triu_indices(2)\n",
    "    ellipses = []\n",
    "#     xax = [1,0]\n",
    "    for x in range(xsize):\n",
    "        for y in range(ysize):\n",
    "            tens[triu_idx] = nda[x,y]\n",
    "            tens[1,0] = tens[0,1]\n",
    "            evals, evecs = np.linalg.eigh(tens)\n",
    "            angle = np.degrees(np.math.atan2(evecs[1][0],evecs[1][1]))\n",
    "            ellipses.append(Ellipse((y,x), width=scale * evals[1], height = scale * evals[0], angle=angle))\n",
    "    collection = PatchCollection(ellipses, alpha=0.7,color='k')\n",
    "    ax.add_collection(collection)\n",
    "    ax.set_xlim(0,ysize)\n",
    "    ax.set_ylim(0,xsize)\n",
    "    ax.set_aspect('equal')\n",
    "    plt.axis('off')\n",
    "    \n",
    "#     if(title):\n",
    "#         plt.title(title)\n",
    "    plt.savefig(title, bbox_inches='tight')"
   ]
  },
  {
   "cell_type": "code",
   "execution_count": null,
   "metadata": {},
   "outputs": [],
   "source": [
    "for i in range(Tpts):\n",
    "    show_2d_tensors(geo_group[i].permute(2,3,0,1), scale=1, title=\"rect\"+str(i)+'.pdf', margin=0.05, dpi=20)"
   ]
  },
  {
   "cell_type": "code",
   "execution_count": null,
   "metadata": {},
   "outputs": [],
   "source": []
  }
 ],
 "metadata": {
  "kernelspec": {
   "display_name": "Python 3",
   "language": "python",
   "name": "python3"
  },
  "language_info": {
   "codemirror_mode": {
    "name": "ipython",
    "version": 3
   },
   "file_extension": ".py",
   "mimetype": "text/x-python",
   "name": "python",
   "nbconvert_exporter": "python",
   "pygments_lexer": "ipython3",
   "version": "3.7.9"
  },
  "varInspector": {
   "cols": {
    "lenName": 16,
    "lenType": 16,
    "lenVar": 40
   },
   "kernels_config": {
    "python": {
     "delete_cmd_postfix": "",
     "delete_cmd_prefix": "del ",
     "library": "var_list.py",
     "varRefreshCmd": "print(var_dic_list())"
    },
    "r": {
     "delete_cmd_postfix": ") ",
     "delete_cmd_prefix": "rm(",
     "library": "var_list.r",
     "varRefreshCmd": "cat(var_dic_list()) "
    }
   },
   "types_to_exclude": [
    "module",
    "function",
    "builtin_function_or_method",
    "instance",
    "_Feature"
   ],
   "window_display": false
  }
 },
 "nbformat": 4,
 "nbformat_minor": 2
}
