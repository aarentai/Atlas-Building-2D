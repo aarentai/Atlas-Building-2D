{
 "cells": [
  {
   "cell_type": "code",
   "execution_count": 30,
   "metadata": {},
   "outputs": [],
   "source": [
    "from Packages import RegistrationFunc\n",
    "import torch\n",
    "import matplotlib.pyplot as plt\n",
    "from skimage import data"
   ]
  },
  {
   "cell_type": "code",
   "execution_count": 31,
   "metadata": {},
   "outputs": [],
   "source": [
    "t = torch.from_numpy(data.astronaut()[:,:,0])"
   ]
  },
  {
   "cell_type": "markdown",
   "metadata": {},
   "source": [
    "original"
   ]
  },
  {
   "cell_type": "code",
   "execution_count": 32,
   "metadata": {},
   "outputs": [],
   "source": [
    "def get_div(v):\n",
    "    v_x = (torch.roll(v[0], shifts=(0, -1), dims=(0, 1)) - torch.roll(v[0], shifts=(0, 1), dims=(0, 1)))/2\n",
    "    v_y = (torch.roll(v[1], shifts=(-1, 0), dims=(0, 1)) - torch.roll(v[1], shifts=(1, 0), dims=(0, 1)))/2\n",
    "    return v_x + v_y\n",
    "\n",
    "\n",
    "def get_det(jac_m): # size_h x size_w\n",
    "    return jac_m[0, 0] * jac_m[1, 1] - jac_m[0, 1] * jac_m[1, 0] #\n",
    "\n",
    "\n",
    "def get_jacobian_determinant(diffeo): # diffeo: 2 x size_h x size_w\n",
    "    jac_m = get_jacobian_matrix(diffeo) # jac_m: 2 x 2 x size_h x size_w\n",
    "    return jac_m[0, 0] * jac_m[1, 1] - jac_m[0, 1] * jac_m[1, 0] # size_h x size_w\n",
    "\n",
    "\n",
    "def get_jacobian_matrix(diffeo): # diffeo: 2 x size_h x size_w\n",
    "#     return torch.stack((get_gradient(diffeo[1]), get_gradient(diffeo[0])))\n",
    "    print(get_gradient(diffeo[0]).shape)\n",
    "    return torch.stack((get_gradient(diffeo[0]), get_gradient(diffeo[1])))\n",
    "\n",
    "\n",
    "def get_gradient(F):  # 2D F: size_h x size_w\n",
    "    F_padded = torch.zeros((F.shape[0]+2,F.shape[1]+2))\n",
    "    F_padded[1:-1,1:-1] = F\n",
    "    F_padded[0,:] = F_padded[1,:]\n",
    "    F_padded[-1,:] = F_padded[-2,:]\n",
    "    F_padded[:,0] = F_padded[:,1]\n",
    "    F_padded[:,-1] = F_padded[:,-2]\n",
    "    F_x = (torch.roll(F_padded, shifts=(0, -1), dims=(0, 1)) - torch.roll(F_padded, shifts=(0, 1), dims=(0, 1)))/2\n",
    "    F_y = (torch.roll(F_padded, shifts=(-1, 0), dims=(0, 1)) - torch.roll(F_padded, shifts=(1, 0), dims=(0, 1)))/2\n",
    "    return torch.stack((F_x[1:-1,1:-1].type(torch.DoubleTensor), F_y[1:-1,1:-1].type(torch.DoubleTensor)))"
   ]
  },
  {
   "cell_type": "code",
   "execution_count": 33,
   "metadata": {},
   "outputs": [],
   "source": [
    "a = get_div(get_gradient(t))"
   ]
  },
  {
   "cell_type": "code",
   "execution_count": 34,
   "metadata": {},
   "outputs": [
    {
     "name": "stdout",
     "output_type": "stream",
     "text": [
      "torch.Size([2, 512, 512])\n"
     ]
    }
   ],
   "source": [
    "aj = get_jacobian_matrix(get_gradient(t))"
   ]
  },
  {
   "cell_type": "code",
   "execution_count": 35,
   "metadata": {},
   "outputs": [
    {
     "data": {
      "text/plain": [
       "torch.Size([2, 2, 512, 512])"
      ]
     },
     "execution_count": 35,
     "metadata": {},
     "output_type": "execute_result"
    }
   ],
   "source": [
    "aj.shape"
   ]
  },
  {
   "cell_type": "code",
   "execution_count": 36,
   "metadata": {},
   "outputs": [],
   "source": [
    "ag = get_gradient(t)"
   ]
  },
  {
   "cell_type": "markdown",
   "metadata": {},
   "source": [
    "modified"
   ]
  },
  {
   "cell_type": "code",
   "execution_count": 37,
   "metadata": {},
   "outputs": [],
   "source": [
    "def get_div(v):\n",
    "    v_x = (torch.roll(v[0], shifts=(-1, 0), dims=(0, 1)) - torch.roll(v[0], shifts=(1, 0), dims=(0, 1)))/2\n",
    "    v_y = (torch.roll(v[1], shifts=(0, -1), dims=(0, 1)) - torch.roll(v[1], shifts=(0, 1), dims=(0, 1)))/2\n",
    "    return v_x + v_y\n",
    "\n",
    "\n",
    "def get_det(jac_m): # size_h x size_w\n",
    "    return jac_m[0, 0] * jac_m[1, 1] - jac_m[0, 1] * jac_m[1, 0] #\n",
    "\n",
    "\n",
    "def get_jacobian_determinant(diffeo): # diffeo: 2 x size_h x size_w\n",
    "    jac_m = get_jacobian_matrix(diffeo) # jac_m: 2 x 2 x size_h x size_w\n",
    "    return jac_m[0, 0] * jac_m[1, 1] - jac_m[0, 1] * jac_m[1, 0] # size_h x size_w\n",
    "\n",
    "\n",
    "def get_jacobian_matrix(diffeo): # diffeo: 2 x size_h x size_w\n",
    "#     return torch.stack((get_gradient(diffeo[1]), get_gradient(diffeo[0])))\n",
    "    return torch.stack((get_gradient(diffeo[0]), get_gradient(diffeo[1])))\n",
    "\n",
    "\n",
    "def get_gradient(F):  # 2D F: size_h x size_w\n",
    "    F_padded = torch.zeros((F.shape[0]+2,F.shape[1]+2))\n",
    "    F_padded[1:-1,1:-1] = F\n",
    "    F_padded[0,:] = F_padded[1,:]\n",
    "    F_padded[-1,:] = F_padded[-2,:]\n",
    "    F_padded[:,0] = F_padded[:,1]\n",
    "    F_padded[:,-1] = F_padded[:,-2]\n",
    "    F_x = (torch.roll(F_padded, shifts=(-1, 0), dims=(0, 1)) - torch.roll(F_padded, shifts=(1, 0), dims=(0, 1)))/2\n",
    "    F_y = (torch.roll(F_padded, shifts=(0, -1), dims=(0, 1)) - torch.roll(F_padded, shifts=(0, 1), dims=(0, 1)))/2\n",
    "    return torch.stack((F_x[1:-1,1:-1].type(torch.DoubleTensor), F_y[1:-1,1:-1].type(torch.DoubleTensor)))"
   ]
  },
  {
   "cell_type": "code",
   "execution_count": 38,
   "metadata": {},
   "outputs": [],
   "source": [
    "b = get_div(get_gradient(t))"
   ]
  },
  {
   "cell_type": "code",
   "execution_count": 39,
   "metadata": {},
   "outputs": [],
   "source": [
    "bj = get_jacobian_matrix(get_gradient(t))"
   ]
  },
  {
   "cell_type": "code",
   "execution_count": 40,
   "metadata": {},
   "outputs": [],
   "source": [
    "bg = get_gradient(t)"
   ]
  },
  {
   "cell_type": "code",
   "execution_count": 46,
   "metadata": {},
   "outputs": [
    {
     "data": {
      "text/plain": [
       "tensor(0., dtype=torch.float64)"
      ]
     },
     "execution_count": 46,
     "metadata": {},
     "output_type": "execute_result"
    }
   ],
   "source": [
    "%matplotlib widget\n",
    "torch.norm(aj[0,1]-bj[1,0])"
   ]
  },
  {
   "cell_type": "code",
   "execution_count": 2,
   "metadata": {},
   "outputs": [
    {
     "data": {
      "text/plain": [
       "torch.Size([3, 3, 100, 120])"
      ]
     },
     "execution_count": 2,
     "metadata": {},
     "output_type": "execute_result"
    }
   ],
   "source": [
    "a=torch.ones((3,100,120))\n",
    "torch.stack((a,a,a)).shape"
   ]
  },
  {
   "cell_type": "code",
   "execution_count": 51,
   "metadata": {},
   "outputs": [],
   "source": [
    "HH, WW, DD = torch.meshgrid([torch.arange(11),#, dtype=torch.double\n",
    "                                 torch.arange(12),#, dtype=torch.double\n",
    "                                 torch.arange(13)])#, dtype=torch.double\n",
    "# original and 4.3\n",
    "c=torch.stack((HH, WW, DD)).double() "
   ]
  },
  {
   "cell_type": "code",
   "execution_count": 52,
   "metadata": {},
   "outputs": [
    {
     "data": {
      "text/plain": [
       "torch.Size([3, 11, 12, 13])"
      ]
     },
     "execution_count": 52,
     "metadata": {},
     "output_type": "execute_result"
    }
   ],
   "source": [
    "c.shape"
   ]
  },
  {
   "cell_type": "code",
   "execution_count": 55,
   "metadata": {},
   "outputs": [
    {
     "data": {
      "text/plain": [
       "tensor([10., 11., 12.], dtype=torch.float64)"
      ]
     },
     "execution_count": 55,
     "metadata": {},
     "output_type": "execute_result"
    }
   ],
   "source": [
    "c[:,10,11,12]"
   ]
  },
  {
   "cell_type": "code",
   "execution_count": null,
   "metadata": {},
   "outputs": [],
   "source": []
  }
 ],
 "metadata": {
  "kernelspec": {
   "display_name": "Python 3",
   "language": "python",
   "name": "python3"
  },
  "language_info": {
   "codemirror_mode": {
    "name": "ipython",
    "version": 3
   },
   "file_extension": ".py",
   "mimetype": "text/x-python",
   "name": "python",
   "nbconvert_exporter": "python",
   "pygments_lexer": "ipython3",
   "version": "3.7.9"
  }
 },
 "nbformat": 4,
 "nbformat_minor": 4
}
